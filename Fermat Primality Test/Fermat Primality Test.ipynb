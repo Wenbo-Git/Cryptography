{
 "cells": [
  {
   "cell_type": "markdown",
   "metadata": {},
   "source": [
    "$\\mathbb{Z}_{n} = \\{0, 1, 2, 3, ... n - 1\\}$\n",
    "<br><br>\n",
    "$\\mathbb{Z}_{n}^{*} = \\{a \\in \\mathbb{Z}_{n}: gcd(a, n) = 1\\}$\n",
    "<br><br>\n",
    "Euler’s phi function:\n",
    "<br>\n",
    "$|\\mathbb{Z}_{n}^{*}| = \\phi(n) = n * \\prod_{\\text{p: p is prime and p|n}} (1 - \\frac{1}{p})$\n",
    "<br><br>\n",
    "$|\\mathbb{Z}_{p}^{*}| = \\phi(p) = p * (1 - \\frac{1}{p}) = p - 1, \\text{where p is prime}$\n",
    "<br><br>\n",
    "Euler's Theorem:\n",
    "<br>\n",
    "$\\forall_{a \\in \\mathbb{Z}_{n}^{*}} a^{\\phi(n)} \\equiv 1 (\\mod n), \\text{where } n > 1$\n",
    "<br><br>\n",
    "Fermat's Theorem:\n",
    "<br>\n",
    "If p is prime, then\n",
    "<br>\n",
    "$\\forall_{a \\in \\mathbb{Z}_{p}^{*}} a^{\\phi(p)} = a ^ {p - 1} \\equiv 1 (\\mod p)$"
   ]
  },
  {
   "cell_type": "code",
   "execution_count": 1,
   "metadata": {},
   "outputs": [],
   "source": [
    "def mod_exp(a, b, n):\n",
    "    res, b_2 = 1, bin(b)\n",
    "    for d in b_2:\n",
    "        res = (res * res) % n\n",
    "        if d == \"1\":\n",
    "            res = (res * a) % n\n",
    "    return res\n",
    "\n",
    "def Fermat_test(n):\n",
    "    # use a = 2\n",
    "    if n <= 2:\n",
    "        raise Exception(\"n must be greater than 2.\")\n",
    "    elif mod_exp(2, n - 1, n) != 1:\n",
    "        print(\"{0} is composite.\".format(n))\n",
    "    else:\n",
    "        print(\"{0} is either prime or base-2 pseudoprime\".format(n))\n",
    "        \n",
    "def Fermat_test_slow(n):\n",
    "    # use a = 2\n",
    "    if n <= 2:\n",
    "        raise Exception(\"n must be greater than 2.\")\n",
    "    elif (2 ** (n - 1)) % n != 1:\n",
    "        print(\"{0} is composite.\".format(n))\n",
    "    else:\n",
    "        print(\"{0} is either prime or base-2 pseudoprime\".format(n))"
   ]
  },
  {
   "cell_type": "code",
   "execution_count": 12,
   "metadata": {},
   "outputs": [],
   "source": [
    "from random import SystemRandom\n",
    "_sysrand = SystemRandom()\n",
    "nums = []\n",
    "for _ in range(40):\n",
    "    nums.append(_sysrand.getrandbits(256))"
   ]
  },
  {
   "cell_type": "code",
   "execution_count": 13,
   "metadata": {},
   "outputs": [
    {
     "name": "stdout",
     "output_type": "stream",
     "text": [
      "81342035735954135313742715028657918289569086828095545278448317519952528561626 is composite.\n",
      "45045971820339198285105243633785720410800833626919958265082100768899922958929 is composite.\n",
      "101731015447025784890119481941628718179891943749973865028862321898315598780463 is composite.\n",
      "45222059047943231256238523064283855372496424651975925237268490822915768814798 is composite.\n",
      "36046291102327548036112371663666598914687817827715620977216941187933506547647 is composite.\n",
      "73081907963340533228102908458255667445995297210909936173758000024678701067135 is composite.\n",
      "69472238964374153437530683868801109398751846442465722903510790446536701041767 is composite.\n",
      "114579279235096429468223694857740514790914478537782334897487069919129729553449 is composite.\n",
      "81716261424323656346574654101604154768876438346792833486262641198511894081627 is composite.\n",
      "6714442838469147210850697038146099916260218858709024850926601665198144390007 is composite.\n",
      "91604565373347238828465157522113608051624590637688291433629461078753764184360 is composite.\n",
      "13845448126922898583805756030994684685459733914468898725143783928504849558992 is composite.\n",
      "20766744486271179770912788390499228190480413458492322483275672584291452904184 is composite.\n",
      "86832746391813119104522317969796416657741400125445055598301070932516817016034 is composite.\n",
      "31076982845865088368397616267815630811951230497420944308631245862318740611700 is composite.\n",
      "91259939053210665453402510083922483911178735869614531161969455015915717601108 is composite.\n",
      "36075056548612604158086201208172915344885259010296641836361013964895417781620 is composite.\n",
      "49444335639788219550671980973821195563255195705450919899815346061109275885820 is composite.\n",
      "14816595401438905575982256264038369686551003205813458013316679682071716102697 is composite.\n",
      "59611630804257416874466869824815617758295827640167165568715239128256338147559 is composite.\n",
      "51014612681799467917274313794918321750368832057453575980867253517551901100839 is composite.\n",
      "32476302946087587279822256943672925534708872407146736940554719578944105570513 is composite.\n",
      "44756194189776728814198434166769227051735561160728125897744176602300009351468 is composite.\n",
      "106744308739318654362604595447605191174681759334838301997186916034419083235152 is composite.\n",
      "86275117406594258950459457841474140066858240961421018810435726068657340560563 is composite.\n",
      "81616531980234633920315551909473929306479585493277865978176519637943426914080 is composite.\n",
      "86732670792345375151380710887772104992435793005157240604402609890914739306093 is either prime or base-2 pseudoprime\n",
      "70450006934740971445126185504472821624055126643721450120657647680674604127368 is composite.\n",
      "58162718729365239502027958844237088008448150406844628091301514311318076062278 is composite.\n",
      "84384285614631166010359472874059502503911639840480001337032287984676382619123 is composite.\n",
      "86792851838130730168706741830334015989582401538824336718828022811611388830479 is composite.\n",
      "36618501146375261923793427221150512599858369548541719149114486148275144526648 is composite.\n",
      "48592650435545713477674324796796017889914861370527781478288661985255092545110 is composite.\n",
      "59098485653056614352537845810452847201888734445274470484006249038780738101033 is composite.\n",
      "344155932819884122934160932643305081987318982291860860311676384309942599443 is composite.\n",
      "48072910479268447718076885036491332762276400241371827325914425873498583496063 is composite.\n",
      "28657011158848689164941747748660607022076310175066792695518404669759926688771 is composite.\n",
      "39014752297411932817113729594549128609245628339182469828286666173612697071895 is composite.\n",
      "80693602113165790165611117809632824713293360085846266001452089597870327047583 is composite.\n",
      "49586429895043595289699321682469476773752257016549922639484368747264770853754 is composite.\n"
     ]
    }
   ],
   "source": [
    "for num in nums:\n",
    "    Fermat_test(num)"
   ]
  },
  {
   "cell_type": "code",
   "execution_count": null,
   "metadata": {},
   "outputs": [],
   "source": [
    "for num in nums:\n",
    "    Fermat_test_slow(num)"
   ]
  },
  {
   "cell_type": "code",
   "execution_count": 14,
   "metadata": {},
   "outputs": [
    {
     "name": "stdout",
     "output_type": "stream",
     "text": [
      "645 is either prime or base-2 pseudoprime\n"
     ]
    }
   ],
   "source": [
    "Fermat_test(645)"
   ]
  }
 ],
 "metadata": {
  "kernelspec": {
   "display_name": "Python 3",
   "language": "python",
   "name": "python3"
  },
  "language_info": {
   "codemirror_mode": {
    "name": "ipython",
    "version": 3
   },
   "file_extension": ".py",
   "mimetype": "text/x-python",
   "name": "python",
   "nbconvert_exporter": "python",
   "pygments_lexer": "ipython3",
   "version": "3.7.4"
  }
 },
 "nbformat": 4,
 "nbformat_minor": 2
}

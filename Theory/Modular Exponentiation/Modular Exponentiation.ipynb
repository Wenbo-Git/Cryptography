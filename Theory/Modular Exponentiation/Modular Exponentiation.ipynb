{
 "cells": [
  {
   "cell_type": "code",
   "execution_count": 1,
   "metadata": {},
   "outputs": [],
   "source": [
    "def modular_exponentiation(a, b, n):\n",
    "    c = 0\n",
    "    d = 1\n",
    "    b_binary = \"{0:b}\".format(b)\n",
    "    print(\"b = {0}\".format(b_binary))\n",
    "    for i in range(0, len(b_binary)):\n",
    "        c_ = c\n",
    "        c = 2 * c\n",
    "        d = (d * d) % n\n",
    "        if b_binary[i] == \"1\":\n",
    "            c = c + 1\n",
    "            d = (d * a) % n\n",
    "        if b_binary[i] == \"0\":\n",
    "            print(\"b_binary[i] = {0}, c = {1}, d = {2} = ((a^c)^2) % n = ((({3}^{4})^2) % {5} = {6}\".\\\n",
    "                  format(b_binary[i], c, d, a, c_, n, (((a**c_)**2)%n)))\n",
    "        else:\n",
    "            print(\"b_binary[i] = {0}, c = {1}, d = {2} = (((a^c)^2)*a) % n = ((({3}^{4})^2)*{5}) % {6} = {7}\".\\\n",
    "                  format(b_binary[i], c, d, a, c_, a, n, (((a**c_)**2)*a)%n))\n",
    "    return d"
   ]
  },
  {
   "cell_type": "code",
   "execution_count": 2,
   "metadata": {},
   "outputs": [
    {
     "name": "stdout",
     "output_type": "stream",
     "text": [
      "b = 1000110000\n",
      "b_binary[i] = 1, c = 1, d = 7 = (((a^c)^2)*a) % n = (((7^0)^2)*7) % 561 = 7\n",
      "b_binary[i] = 0, c = 2, d = 49 = ((a^c)^2) % n = (((7^1)^2) % 561 = 49\n",
      "b_binary[i] = 0, c = 4, d = 157 = ((a^c)^2) % n = (((7^2)^2) % 561 = 157\n",
      "b_binary[i] = 0, c = 8, d = 526 = ((a^c)^2) % n = (((7^4)^2) % 561 = 526\n",
      "b_binary[i] = 1, c = 17, d = 160 = (((a^c)^2)*a) % n = (((7^8)^2)*7) % 561 = 160\n",
      "b_binary[i] = 1, c = 35, d = 241 = (((a^c)^2)*a) % n = (((7^17)^2)*7) % 561 = 241\n",
      "b_binary[i] = 0, c = 70, d = 298 = ((a^c)^2) % n = (((7^35)^2) % 561 = 298\n",
      "b_binary[i] = 0, c = 140, d = 166 = ((a^c)^2) % n = (((7^70)^2) % 561 = 166\n",
      "b_binary[i] = 0, c = 280, d = 67 = ((a^c)^2) % n = (((7^140)^2) % 561 = 67\n",
      "b_binary[i] = 0, c = 560, d = 1 = ((a^c)^2) % n = (((7^280)^2) % 561 = 1\n"
     ]
    },
    {
     "data": {
      "text/plain": [
       "1"
      ]
     },
     "execution_count": 2,
     "metadata": {},
     "output_type": "execute_result"
    }
   ],
   "source": [
    "modular_exponentiation(7, 560, 561)"
   ]
  }
 ],
 "metadata": {
  "kernelspec": {
   "display_name": "Python 3",
   "language": "python",
   "name": "python3"
  },
  "language_info": {
   "codemirror_mode": {
    "name": "ipython",
    "version": 3
   },
   "file_extension": ".py",
   "mimetype": "text/x-python",
   "name": "python",
   "nbconvert_exporter": "python",
   "pygments_lexer": "ipython3",
   "version": "3.7.4"
  }
 },
 "nbformat": 4,
 "nbformat_minor": 2
}

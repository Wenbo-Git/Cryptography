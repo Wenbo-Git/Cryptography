{
 "cells": [
  {
   "cell_type": "markdown",
   "metadata": {},
   "source": [
    "$\\mathbb{Z}_{n} = \\{0, 1, 2, 3, ... n - 1\\}$\n",
    "<br><br>\n",
    "$\\mathbb{Z}_{n}^{*} = \\{a \\in \\mathbb{Z}_{n}: gcd(a, n) = 1\\}$\n",
    "<br><br>\n",
    "Euler’s phi function:\n",
    "<br>\n",
    "$|\\mathbb{Z}_{n}^{*}| = \\phi(n) = n * \\prod_{\\text{p: p is prime and p|n}} (1 - \\frac{1}{p})$\n",
    "<br><br>\n",
    "$|\\mathbb{Z}_{p}^{*}| = \\phi(p) = p * (1 - \\frac{1}{p}) = p - 1, \\text{where p is prime}$\n",
    "<br><br>\n",
    "Euler's Theorem:\n",
    "<br>\n",
    "$\\forall_{a \\in \\mathbb{Z}_{n}^{*}} a^{\\phi(n)} \\equiv 1 (\\mod n), \\text{where } n > 1$\n",
    "<br><br>\n",
    "Fermat's Theorem:\n",
    "<br>\n",
    "If p is prime, then\n",
    "<br>\n",
    "$\\forall_{a \\in \\mathbb{Z}_{p}^{*}} a^{\\phi(p)} = a ^ {p - 1} \\equiv 1 (\\mod p)$"
   ]
  }
 ],
 "metadata": {
  "kernelspec": {
   "display_name": "Python 3",
   "language": "python",
   "name": "python3"
  },
  "language_info": {
   "codemirror_mode": {
    "name": "ipython",
    "version": 3
   },
   "file_extension": ".py",
   "mimetype": "text/x-python",
   "name": "python",
   "nbconvert_exporter": "python",
   "pygments_lexer": "ipython3",
   "version": "3.7.4"
  }
 },
 "nbformat": 4,
 "nbformat_minor": 2
}

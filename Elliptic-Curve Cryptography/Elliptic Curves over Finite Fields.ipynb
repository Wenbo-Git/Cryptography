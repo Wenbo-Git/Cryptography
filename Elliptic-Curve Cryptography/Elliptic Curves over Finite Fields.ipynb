{
 "cells": [
  {
   "cell_type": "code",
   "execution_count": 1,
   "metadata": {},
   "outputs": [],
   "source": [
    "class FieldElement:\n",
    "    def __init__(self, num, prime):\n",
    "        if num >= prime or num < 0:\n",
    "            raise ValueError(\"Number {0} is not in the range between 0 and {1} - 1\".format(num, prime))\n",
    "        self.num = num\n",
    "        self.prime = prime\n",
    "        \n",
    "    def __eq__(self, other):\n",
    "        if not other:\n",
    "            return False\n",
    "        elif self.num == other.num and self.prime == other.prime:\n",
    "            return True\n",
    "        else:\n",
    "            return False\n",
    "        \n",
    "    def __ne__(self, other):\n",
    "        if not other:\n",
    "            return False\n",
    "        elif self.num != other.num or self.prime != other.prime:\n",
    "            return True\n",
    "        else:\n",
    "            return False\n",
    "        \n",
    "    def __repr__(self):\n",
    "        return \"FieldElement_{0}({1})\".format(self.prime, self.num)\n",
    "    \n",
    "    def __add__(self, other):\n",
    "        if self.prime != other.prime:\n",
    "            raise TypeError(\"Cannot add two numbers in different fields.\")\n",
    "        num = (self.num + other.num) % self.prime\n",
    "        return self.__class__(num, self.prime)\n",
    "    \n",
    "    def __sub__(self, other):\n",
    "        if self.prime != other.prime:\n",
    "            raise TypeError(\"Cannot add two numbers in different fields.\")\n",
    "        num = (self.num - other.num) % self.prime\n",
    "        return self.__class__(num, self.prime)\n",
    "    \n",
    "    def __mul__(self, other):\n",
    "        if self.prime != other.prime:\n",
    "            raise TypeError(\"Cannot add two numbers in different fields.\")\n",
    "        num = (self.num * other.num) % self.prime\n",
    "        return self.__class__(num, self.prime)\n",
    "    \n",
    "    def __rmul__(self, scalor):\n",
    "        num = (self.num * scalor) % self.prime\n",
    "        return self.__class__(num, self.prime)\n",
    "    \n",
    "    def __truediv__(self, other):\n",
    "        if self.prime != other.prime:\n",
    "            raise TypeError(\"Cannot add two numbers in different fields.\")\n",
    "        num = (self.num * pow(other.num, other.prime - 2, other.prime)) % self.prime\n",
    "        return self.__class__(num, self.prime)\n",
    "    \n",
    "    def __pow__(self, exponent):\n",
    "        n = exponent % (self.prime - 1)\n",
    "        num = pow(self.num, n, self.prime)\n",
    "        return self.__class__(num, self.prime)\n",
    "    \n",
    "class Point:\n",
    "    def __init__(self, x, y, a, b):\n",
    "        self.x = x\n",
    "        self.y = y\n",
    "        self.a = a\n",
    "        self.b = b\n",
    "        if self.x == None and self.y == None:\n",
    "            return \n",
    "        if self.y ** 2 != self.x ** 3 + a * x + b:\n",
    "            raise ValueError(\"({0}, {1}) is not on the curve.\".format(x, y))\n",
    "            \n",
    "    def __repr__(self):\n",
    "        if self.x is None and self.y is None:\n",
    "            return \"Point(Infinity)\"\n",
    "        elif isinstance(self.x, FieldElement):\n",
    "            return \"Point({0}, {1})_{2}_{3} FieldElement({4})\".format(self.x.num, self.y.num, self.a.num, self.b.num, self.x.prime)\n",
    "        else:\n",
    "            return \"Point({0}, {1})_{2}_{3}\".format(self.x, self.y, self.a, self.b)\n",
    "        \n",
    "    def __eq__(self, other):\n",
    "        return self.x == other.x and self.y == other.y and self.a == other.a and self.b == other.b\n",
    "    \n",
    "    def __ne__(self, other):\n",
    "        return self.x != other.x or self.y != other.y or self.a != other.a or self.b != other.b\n",
    "    \n",
    "    def __add__(self, other):\n",
    "        if self.a != other.a or self.b != other.b:\n",
    "            raise TypeError(\"Point {0} and {1} are not on the same curve\".format(self, other))\n",
    "            \n",
    "        if self.x is None:\n",
    "            return other\n",
    "        \n",
    "        if other.x is None:\n",
    "            return self\n",
    "        \n",
    "        if self.x == other.x and self.y != other.y:\n",
    "            return self.__class__(None, None, self.a, self.b)\n",
    "        \n",
    "        if self.x != other.x:\n",
    "            s = (other.y - self.y)/(other.x - self.x)\n",
    "            x = s ** 2 - self.x - other.x\n",
    "            y = s * (self.x - x) - self.y\n",
    "            return self.__class__(x, y, self.a, self.b)\n",
    "        \n",
    "        if self == other:\n",
    "            if self.y == 0:\n",
    "                return self.__class__(None, None, self.a, self.b)\n",
    "            else:\n",
    "                s = (3 * self.x ** 2 + self.a) / (2 * self.y)\n",
    "                x = s ** 2 - 2 * self.x\n",
    "                y = s * (self.x - x) - self.y\n",
    "                return self.__class__(x, y, self.a, self.b)\n",
    "    \n",
    "    def __rmul__(self, scalor):\n",
    "        s = scalor\n",
    "        current = self\n",
    "        res = self.__class__(None, None, self.a, self.b)\n",
    "        while s:\n",
    "            if s & 1:\n",
    "                res += current\n",
    "            current += current \n",
    "            s >>= 1\n",
    "        return res\n",
    "\n",
    "class S256Field(FieldElement):\n",
    "    def __init__(self, num, prime = None):\n",
    "        super().__init__(num = num, prime = P)\n",
    "        \n",
    "class S256Point(Point):\n",
    "    def __init__(self, x, y, a = None, b = None):\n",
    "        a, b = S256Field(A), S256Field(B)\n",
    "        if type(x) == int:\n",
    "            super().__init__(S256Field(x), S256Field(y), a, b)\n",
    "        else:\n",
    "            super().__init__(x, y, a, b)\n",
    "    \n",
    "    def __repr__(self):\n",
    "        if self.x is None and self.y is None:\n",
    "            return \"S256Point(Infinity)\"\n",
    "        else:\n",
    "            return \"S256Point({0}, {1})\".format(self.x, self.y)\n",
    "        \n",
    "    def __rmul__(self, scalor):\n",
    "        s = scalor % N\n",
    "        return super().__rmul__(s)\n",
    "    \n",
    "### Define secp256k1 ###\n",
    "A = 0\n",
    "B = 7\n",
    "P = 2**256 - 2**32 - 977\n",
    "X = 0x79be667ef9dcbbac55a06295ce870b07029bfcdb2dce28d959f2815b16f81798\n",
    "Y = 0x483ada7726a3c4655da4fbfc0e1108a8fd17b448a68554199c47d08ffb10d4b8\n",
    "N = 0xfffffffffffffffffffffffffffffffebaaedce6af48a03bbfd25e8cd0364141"
   ]
  },
  {
   "cell_type": "code",
   "execution_count": 2,
   "metadata": {},
   "outputs": [
    {
     "data": {
      "text/plain": [
       "Point(170, 142)_0_7 FieldElement(223)"
      ]
     },
     "execution_count": 2,
     "metadata": {},
     "output_type": "execute_result"
    }
   ],
   "source": [
    "prime = 223\n",
    "a = FieldElement(0, prime)\n",
    "b = FieldElement(7, prime)\n",
    "x1 = FieldElement(192, prime)\n",
    "y1 = FieldElement(105, prime)\n",
    "x2 = FieldElement(17, prime)\n",
    "y2 = FieldElement(56, prime)\n",
    "P1 = Point(x1, y1, a, b)\n",
    "P2 = Point(x2, y2, a, b)\n",
    "P1 + P2"
   ]
  },
  {
   "cell_type": "code",
   "execution_count": 3,
   "metadata": {},
   "outputs": [],
   "source": [
    "prime = 223\n",
    "a = FieldElement(0, prime)\n",
    "b = FieldElement(7, prime)\n",
    "x = FieldElement(47, prime)\n",
    "y = FieldElement(71, prime)\n",
    "P0 = Point(x, y, a, b)"
   ]
  },
  {
   "cell_type": "code",
   "execution_count": 4,
   "metadata": {},
   "outputs": [
    {
     "data": {
      "text/plain": [
       "Point(Infinity)"
      ]
     },
     "execution_count": 4,
     "metadata": {},
     "output_type": "execute_result"
    }
   ],
   "source": [
    "21*P0"
   ]
  },
  {
   "cell_type": "code",
   "execution_count": 5,
   "metadata": {},
   "outputs": [],
   "source": [
    "### Define secp256k1 ###\n",
    "a = 0\n",
    "b = 7\n",
    "p = 2**256 - 2**32 - 977\n",
    "x = 0x79be667ef9dcbbac55a06295ce870b07029bfcdb2dce28d959f2815b16f81798\n",
    "y = 0x483ada7726a3c4655da4fbfc0e1108a8fd17b448a68554199c47d08ffb10d4b8\n",
    "n = 0xfffffffffffffffffffffffffffffffebaaedce6af48a03bbfd25e8cd0364141\n",
    "G = Point(FieldElement(x, p), FieldElement(y, p), FieldElement(a, p), FieldElement(b, p))"
   ]
  },
  {
   "cell_type": "code",
   "execution_count": 6,
   "metadata": {},
   "outputs": [
    {
     "name": "stdout",
     "output_type": "stream",
     "text": [
      "Point(55066263022277343669578718895168534326250603453777594175500187360389116729240, 32670510020758816978083085130507043184471273380659243275938904335757337482424)_0_7 FieldElement(115792089237316195423570985008687907853269984665640564039457584007908834671663)\n"
     ]
    }
   ],
   "source": [
    "print(G)"
   ]
  },
  {
   "cell_type": "code",
   "execution_count": 7,
   "metadata": {},
   "outputs": [
    {
     "data": {
      "text/plain": [
       "Point(Infinity)"
      ]
     },
     "execution_count": 7,
     "metadata": {},
     "output_type": "execute_result"
    }
   ],
   "source": [
    "n * G"
   ]
  },
  {
   "cell_type": "code",
   "execution_count": 8,
   "metadata": {},
   "outputs": [
    {
     "data": {
      "text/plain": [
       "Point(55066263022277343669578718895168534326250603453777594175500187360389116729240, 32670510020758816978083085130507043184471273380659243275938904335757337482424)_0_7 FieldElement(115792089237316195423570985008687907853269984665640564039457584007908834671663)"
      ]
     },
     "execution_count": 8,
     "metadata": {},
     "output_type": "execute_result"
    }
   ],
   "source": [
    "(n + 1)*G"
   ]
  },
  {
   "cell_type": "code",
   "execution_count": 9,
   "metadata": {},
   "outputs": [
    {
     "data": {
      "text/plain": [
       "Point(55066263022277343669578718895168534326250603453777594175500187360389116729240, 83121579216557378445487899878180864668798711284981320763518679672151497189239)_0_7 FieldElement(115792089237316195423570985008687907853269984665640564039457584007908834671663)"
      ]
     },
     "execution_count": 9,
     "metadata": {},
     "output_type": "execute_result"
    }
   ],
   "source": [
    "(n - 1)*G"
   ]
  },
  {
   "cell_type": "code",
   "execution_count": 10,
   "metadata": {},
   "outputs": [],
   "source": [
    "from random import SystemRandom\n",
    "_sysrand = SystemRandom()"
   ]
  },
  {
   "cell_type": "code",
   "execution_count": 11,
   "metadata": {},
   "outputs": [],
   "source": [
    "k = _sysrand.getrandbits(256)"
   ]
  },
  {
   "cell_type": "code",
   "execution_count": 12,
   "metadata": {},
   "outputs": [
    {
     "data": {
      "text/plain": [
       "Point(87835448767208679548872835345336854480277524923246950083736542401575726206460, 81494615720426473033221453869458135424129340293369389459402327900085338391698)_0_7 FieldElement(115792089237316195423570985008687907853269984665640564039457584007908834671663)"
      ]
     },
     "execution_count": 12,
     "metadata": {},
     "output_type": "execute_result"
    }
   ],
   "source": [
    "k * G"
   ]
  },
  {
   "cell_type": "code",
   "execution_count": 13,
   "metadata": {},
   "outputs": [
    {
     "data": {
      "text/plain": [
       "256"
      ]
     },
     "execution_count": 13,
     "metadata": {},
     "output_type": "execute_result"
    }
   ],
   "source": [
    "int(n).bit_length()"
   ]
  },
  {
   "cell_type": "code",
   "execution_count": 14,
   "metadata": {},
   "outputs": [
    {
     "data": {
      "text/plain": [
       "115792089237316195423570985008687907853269984665640564039457584007913129639936"
      ]
     },
     "execution_count": 14,
     "metadata": {},
     "output_type": "execute_result"
    }
   ],
   "source": [
    "2**256"
   ]
  },
  {
   "cell_type": "code",
   "execution_count": 15,
   "metadata": {},
   "outputs": [
    {
     "data": {
      "text/plain": [
       "115792089237316195423570985008687907852837564279074904382605163141518161494337"
      ]
     },
     "execution_count": 15,
     "metadata": {},
     "output_type": "execute_result"
    }
   ],
   "source": [
    "n"
   ]
  },
  {
   "cell_type": "code",
   "execution_count": 16,
   "metadata": {},
   "outputs": [],
   "source": [
    "assert(n < 2 ** 256)"
   ]
  },
  {
   "cell_type": "code",
   "execution_count": 17,
   "metadata": {},
   "outputs": [],
   "source": [
    "G = S256Point(X, Y)"
   ]
  },
  {
   "cell_type": "code",
   "execution_count": 18,
   "metadata": {},
   "outputs": [
    {
     "data": {
      "text/plain": [
       "S256Point(Infinity)"
      ]
     },
     "execution_count": 18,
     "metadata": {},
     "output_type": "execute_result"
    }
   ],
   "source": [
    "N * G"
   ]
  },
  {
   "cell_type": "code",
   "execution_count": 19,
   "metadata": {},
   "outputs": [
    {
     "data": {
      "text/plain": [
       "S256Point(FieldElement_115792089237316195423570985008687907853269984665640564039457584007908834671663(55066263022277343669578718895168534326250603453777594175500187360389116729240), FieldElement_115792089237316195423570985008687907853269984665640564039457584007908834671663(83121579216557378445487899878180864668798711284981320763518679672151497189239))"
      ]
     },
     "execution_count": 19,
     "metadata": {},
     "output_type": "execute_result"
    }
   ],
   "source": [
    "(N - 1)* G"
   ]
  },
  {
   "cell_type": "code",
   "execution_count": 20,
   "metadata": {},
   "outputs": [],
   "source": [
    "assert(G == (N + 1)* G)"
   ]
  },
  {
   "cell_type": "markdown",
   "metadata": {},
   "source": [
    "#### Reference: \"Programming Bitcoin: Learn How to Program Bitcoin from Scratch\", 1st Edition, 2019"
   ]
  }
 ],
 "metadata": {
  "kernelspec": {
   "display_name": "Python 3",
   "language": "python",
   "name": "python3"
  },
  "language_info": {
   "codemirror_mode": {
    "name": "ipython",
    "version": 3
   },
   "file_extension": ".py",
   "mimetype": "text/x-python",
   "name": "python",
   "nbconvert_exporter": "python",
   "pygments_lexer": "ipython3",
   "version": "3.7.4"
  }
 },
 "nbformat": 4,
 "nbformat_minor": 2
}

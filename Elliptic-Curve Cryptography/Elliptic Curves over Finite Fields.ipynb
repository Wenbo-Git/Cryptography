{
 "cells": [
  {
   "cell_type": "code",
   "execution_count": 1,
   "metadata": {},
   "outputs": [],
   "source": [
    "class FieldElement:\n",
    "    def __init__(self, num, prime):\n",
    "        if num >= prime or num < 0:\n",
    "            raise ValueError(\"Number {0} is not in the range between 0 and {1} - 1\".format(num, prime))\n",
    "        self.num = num\n",
    "        self.prime = prime\n",
    "        \n",
    "    def __eq__(self, other):\n",
    "        if not other:\n",
    "            return False\n",
    "        elif self.num == other.num and self.prime == other.prime:\n",
    "            return True\n",
    "        else:\n",
    "            return False\n",
    "        \n",
    "    def __ne__(self, other):\n",
    "        if not other:\n",
    "            return False\n",
    "        elif self.num != other.num or self.prime != other.prime:\n",
    "            return True\n",
    "        else:\n",
    "            return False\n",
    "        \n",
    "    def __repr__(self):\n",
    "        return \"FieldElement_{0}({1})\".format(self.prime, self.num)\n",
    "    \n",
    "    def __add__(self, other):\n",
    "        if self.prime != other.prime:\n",
    "            raise TypeError(\"Cannot add two numbers in different fields.\")\n",
    "        num = (self.num + other.num) % self.prime\n",
    "        return self.__class__(num, self.prime)\n",
    "    \n",
    "    def __sub__(self, other):\n",
    "        if self.prime != other.prime:\n",
    "            raise TypeError(\"Cannot add two numbers in different fields.\")\n",
    "        num = (self.num - other.num) % self.prime\n",
    "        return self.__class__(num, self.prime)\n",
    "    \n",
    "    def __mul__(self, other):\n",
    "        if self.prime != other.prime:\n",
    "            raise TypeError(\"Cannot add two numbers in different fields.\")\n",
    "        num = (self.num * other.num) % self.prime\n",
    "        return self.__class__(num, self.prime)\n",
    "    \n",
    "    def __rmul__(self, scalor):\n",
    "        num = (self.num * scalor) % self.prime\n",
    "        return self.__class__(num, self.prime)\n",
    "    \n",
    "    def __truediv__(self, other):\n",
    "        if self.prime != other.prime:\n",
    "            raise TypeError(\"Cannot add two numbers in different fields.\")\n",
    "        num = (self.num * pow(other.num, other.prime - 2, other.prime)) % self.prime\n",
    "        return self.__class__(num, self.prime)\n",
    "    \n",
    "    def __pow__(self, exponent):\n",
    "        n = exponent % (self.prime - 1)\n",
    "        num = pow(self.num, n, self.prime)\n",
    "        return self.__class__(num, self.prime)\n",
    "    \n",
    "class Point:\n",
    "    def __init__(self, x, y, a, b):\n",
    "        self.x = x\n",
    "        self.y = y\n",
    "        self.a = a\n",
    "        self.b = b\n",
    "        if self.x == None and self.y == None:\n",
    "            return \n",
    "        if self.y ** 2 != self.x ** 3 + a * x + b:\n",
    "            raise ValueError(\"({0}, {1}) is not on the curve.\".format(x, y))\n",
    "            \n",
    "    def __repr__(self):\n",
    "        if self.x is None and self.y is None:\n",
    "            return \"Point(Infinity)\"\n",
    "        elif isinstance(self.x, FieldElement):\n",
    "            return \"Point({0}, {1})_{2}_{3} FieldElement({4})\".format(self.x.num, self.y.num, self.a.num, self.b.num, self.x.prime)\n",
    "        else:\n",
    "            return \"Point({0}, {1})_{2}_{3}\".format(self.x, self.y, self.a, self.b)\n",
    "        \n",
    "    def __eq__(self, other):\n",
    "        return self.x == other.x and self.y == other.y and self.a == other.a and self.b == other.b\n",
    "    \n",
    "    def __ne__(self, other):\n",
    "        return self.x != other.x or self.y != other.y or self.a != other.a or self.b != other.b\n",
    "    \n",
    "    def __add__(self, other):\n",
    "        if self.a != other.a or self.b != other.b:\n",
    "            raise TypeError(\"Point {0} and {1} are not on the same curve\".format(self, other))\n",
    "            \n",
    "        if self.x is None:\n",
    "            return other\n",
    "        \n",
    "        if other.x is None:\n",
    "            return self\n",
    "        \n",
    "        if self.x == other.x and self.y != other.y:\n",
    "            return self.__class__(None, None, self.a, self.b)\n",
    "        \n",
    "        if self.x != other.x:\n",
    "            s = (other.y - self.y)/(other.x - self.x)\n",
    "            x = s ** 2 - self.x - other.x\n",
    "            y = s * (self.x - x) - self.y\n",
    "            return self.__class__(x, y, self.a, self.b)\n",
    "        \n",
    "        if self == other:\n",
    "            if self.y == 0:\n",
    "                return self.__class__(None, None, self.a, self.b)\n",
    "            else:\n",
    "                s = (3 * self.x ** 2 + self.a) / (2 * self.y)\n",
    "                x = s ** 2 - 2 * self.x\n",
    "                y = s * (self.x - x) - self.y\n",
    "                return self.__class__(x, y, self.a, self.b)\n",
    "    \n",
    "    def __rmul__(self, scalor):\n",
    "        s = scalor\n",
    "        current = self\n",
    "        res = self.__class__(None, None, self.a, self.b)\n",
    "        while s:\n",
    "            if s & 1:\n",
    "                res += current\n",
    "            current += current \n",
    "            s >>= 1\n",
    "        return res\n",
    "\n",
    "class S256Field(FieldElement):\n",
    "    def __init__(self, num, prime = None):\n",
    "        super().__init__(num = num, prime = P)\n",
    "        \n",
    "class S256Point(Point):\n",
    "    def __init__(self, x, y, a = None, b = None):\n",
    "        a, b = S256Field(A), S256Field(B)\n",
    "        if type(x) == int:\n",
    "            super().__init__(S256Field(x), S256Field(y), a, b)\n",
    "        else:\n",
    "            super().__init__(x, y, a, b)\n",
    "    \n",
    "    def __repr__(self):\n",
    "        if self.x is None and self.y is None:\n",
    "            return \"S256Point(Infinity)\"\n",
    "        else:\n",
    "            return \"S256Point({0}, {1})\".format(self.x, self.y)\n",
    "        \n",
    "    def __rmul__(self, scalor):\n",
    "        s = scalor % N\n",
    "        return super().__rmul__(s)\n",
    "    \n",
    "### Define secp256k1 ###\n",
    "A = 0\n",
    "B = 7\n",
    "P = 2**256 - 2**32 - 977\n",
    "X = 0x79be667ef9dcbbac55a06295ce870b07029bfcdb2dce28d959f2815b16f81798\n",
    "Y = 0x483ada7726a3c4655da4fbfc0e1108a8fd17b448a68554199c47d08ffb10d4b8\n",
    "N = 0xfffffffffffffffffffffffffffffffebaaedce6af48a03bbfd25e8cd0364141"
   ]
  },
  {
   "cell_type": "code",
   "execution_count": 2,
   "metadata": {},
   "outputs": [
    {
     "data": {
      "text/plain": [
       "Point(170, 142)_0_7 FieldElement(223)"
      ]
     },
     "execution_count": 2,
     "metadata": {},
     "output_type": "execute_result"
    }
   ],
   "source": [
    "prime = 223\n",
    "a = FieldElement(0, prime)\n",
    "b = FieldElement(7, prime)\n",
    "x1 = FieldElement(192, prime)\n",
    "y1 = FieldElement(105, prime)\n",
    "x2 = FieldElement(17, prime)\n",
    "y2 = FieldElement(56, prime)\n",
    "P1 = Point(x1, y1, a, b)\n",
    "P2 = Point(x2, y2, a, b)\n",
    "P1 + P2"
   ]
  },
  {
   "cell_type": "code",
   "execution_count": 3,
   "metadata": {},
   "outputs": [
    {
     "name": "stdout",
     "output_type": "stream",
     "text": [
      "s = 1, res = Point(47, 71)_0_7 FieldElement(223)\n",
      "s = 2, res = Point(36, 111)_0_7 FieldElement(223)\n",
      "s = 3, res = Point(15, 137)_0_7 FieldElement(223)\n",
      "s = 4, res = Point(194, 51)_0_7 FieldElement(223)\n",
      "s = 5, res = Point(126, 96)_0_7 FieldElement(223)\n",
      "s = 6, res = Point(139, 137)_0_7 FieldElement(223)\n",
      "s = 7, res = Point(92, 47)_0_7 FieldElement(223)\n",
      "s = 8, res = Point(116, 55)_0_7 FieldElement(223)\n",
      "s = 9, res = Point(69, 86)_0_7 FieldElement(223)\n",
      "s = 10, res = Point(154, 150)_0_7 FieldElement(223)\n",
      "s = 11, res = Point(154, 73)_0_7 FieldElement(223)\n",
      "s = 12, res = Point(69, 137)_0_7 FieldElement(223)\n",
      "s = 13, res = Point(116, 168)_0_7 FieldElement(223)\n",
      "s = 14, res = Point(92, 176)_0_7 FieldElement(223)\n",
      "s = 15, res = Point(139, 86)_0_7 FieldElement(223)\n",
      "s = 16, res = Point(126, 127)_0_7 FieldElement(223)\n",
      "s = 17, res = Point(194, 172)_0_7 FieldElement(223)\n",
      "s = 18, res = Point(15, 86)_0_7 FieldElement(223)\n",
      "s = 19, res = Point(36, 112)_0_7 FieldElement(223)\n",
      "s = 20, res = Point(47, 152)_0_7 FieldElement(223)\n",
      "s = 21, res = Point(Infinity)\n",
      "s = 22, res = Point(47, 71)_0_7 FieldElement(223)\n",
      "s = 23, res = Point(36, 111)_0_7 FieldElement(223)\n",
      "s = 24, res = Point(15, 137)_0_7 FieldElement(223)\n",
      "s = 25, res = Point(194, 51)_0_7 FieldElement(223)\n",
      "s = 26, res = Point(126, 96)_0_7 FieldElement(223)\n",
      "s = 27, res = Point(139, 137)_0_7 FieldElement(223)\n",
      "s = 28, res = Point(92, 47)_0_7 FieldElement(223)\n",
      "s = 29, res = Point(116, 55)_0_7 FieldElement(223)\n",
      "s = 30, res = Point(69, 86)_0_7 FieldElement(223)\n",
      "s = 31, res = Point(154, 150)_0_7 FieldElement(223)\n",
      "s = 32, res = Point(154, 73)_0_7 FieldElement(223)\n",
      "s = 33, res = Point(69, 137)_0_7 FieldElement(223)\n",
      "s = 34, res = Point(116, 168)_0_7 FieldElement(223)\n",
      "s = 35, res = Point(92, 176)_0_7 FieldElement(223)\n",
      "s = 36, res = Point(139, 86)_0_7 FieldElement(223)\n",
      "s = 37, res = Point(126, 127)_0_7 FieldElement(223)\n",
      "s = 38, res = Point(194, 172)_0_7 FieldElement(223)\n",
      "s = 39, res = Point(15, 86)_0_7 FieldElement(223)\n",
      "s = 40, res = Point(36, 112)_0_7 FieldElement(223)\n",
      "s = 41, res = Point(47, 152)_0_7 FieldElement(223)\n",
      "s = 42, res = Point(Infinity)\n",
      "s = 43, res = Point(47, 71)_0_7 FieldElement(223)\n",
      "s = 44, res = Point(36, 111)_0_7 FieldElement(223)\n",
      "s = 45, res = Point(15, 137)_0_7 FieldElement(223)\n",
      "s = 46, res = Point(194, 51)_0_7 FieldElement(223)\n",
      "s = 47, res = Point(126, 96)_0_7 FieldElement(223)\n",
      "s = 48, res = Point(139, 137)_0_7 FieldElement(223)\n",
      "s = 49, res = Point(92, 47)_0_7 FieldElement(223)\n",
      "s = 50, res = Point(116, 55)_0_7 FieldElement(223)\n",
      "s = 51, res = Point(69, 86)_0_7 FieldElement(223)\n",
      "s = 52, res = Point(154, 150)_0_7 FieldElement(223)\n",
      "s = 53, res = Point(154, 73)_0_7 FieldElement(223)\n",
      "s = 54, res = Point(69, 137)_0_7 FieldElement(223)\n",
      "s = 55, res = Point(116, 168)_0_7 FieldElement(223)\n",
      "s = 56, res = Point(92, 176)_0_7 FieldElement(223)\n",
      "s = 57, res = Point(139, 86)_0_7 FieldElement(223)\n",
      "s = 58, res = Point(126, 127)_0_7 FieldElement(223)\n",
      "s = 59, res = Point(194, 172)_0_7 FieldElement(223)\n",
      "s = 60, res = Point(15, 86)_0_7 FieldElement(223)\n",
      "s = 61, res = Point(36, 112)_0_7 FieldElement(223)\n",
      "s = 62, res = Point(47, 152)_0_7 FieldElement(223)\n",
      "s = 63, res = Point(Infinity)\n",
      "s = 64, res = Point(47, 71)_0_7 FieldElement(223)\n",
      "s = 65, res = Point(36, 111)_0_7 FieldElement(223)\n",
      "s = 66, res = Point(15, 137)_0_7 FieldElement(223)\n",
      "s = 67, res = Point(194, 51)_0_7 FieldElement(223)\n",
      "s = 68, res = Point(126, 96)_0_7 FieldElement(223)\n",
      "s = 69, res = Point(139, 137)_0_7 FieldElement(223)\n",
      "s = 70, res = Point(92, 47)_0_7 FieldElement(223)\n",
      "s = 71, res = Point(116, 55)_0_7 FieldElement(223)\n",
      "s = 72, res = Point(69, 86)_0_7 FieldElement(223)\n",
      "s = 73, res = Point(154, 150)_0_7 FieldElement(223)\n",
      "s = 74, res = Point(154, 73)_0_7 FieldElement(223)\n",
      "s = 75, res = Point(69, 137)_0_7 FieldElement(223)\n",
      "s = 76, res = Point(116, 168)_0_7 FieldElement(223)\n",
      "s = 77, res = Point(92, 176)_0_7 FieldElement(223)\n",
      "s = 78, res = Point(139, 86)_0_7 FieldElement(223)\n",
      "s = 79, res = Point(126, 127)_0_7 FieldElement(223)\n",
      "s = 80, res = Point(194, 172)_0_7 FieldElement(223)\n",
      "s = 81, res = Point(15, 86)_0_7 FieldElement(223)\n",
      "s = 82, res = Point(36, 112)_0_7 FieldElement(223)\n",
      "s = 83, res = Point(47, 152)_0_7 FieldElement(223)\n",
      "s = 84, res = Point(Infinity)\n",
      "s = 85, res = Point(47, 71)_0_7 FieldElement(223)\n",
      "s = 86, res = Point(36, 111)_0_7 FieldElement(223)\n",
      "s = 87, res = Point(15, 137)_0_7 FieldElement(223)\n",
      "s = 88, res = Point(194, 51)_0_7 FieldElement(223)\n",
      "s = 89, res = Point(126, 96)_0_7 FieldElement(223)\n",
      "s = 90, res = Point(139, 137)_0_7 FieldElement(223)\n",
      "s = 91, res = Point(92, 47)_0_7 FieldElement(223)\n",
      "s = 92, res = Point(116, 55)_0_7 FieldElement(223)\n",
      "s = 93, res = Point(69, 86)_0_7 FieldElement(223)\n",
      "s = 94, res = Point(154, 150)_0_7 FieldElement(223)\n",
      "s = 95, res = Point(154, 73)_0_7 FieldElement(223)\n",
      "s = 96, res = Point(69, 137)_0_7 FieldElement(223)\n",
      "s = 97, res = Point(116, 168)_0_7 FieldElement(223)\n",
      "s = 98, res = Point(92, 176)_0_7 FieldElement(223)\n",
      "s = 99, res = Point(139, 86)_0_7 FieldElement(223)\n",
      "s = 100, res = Point(126, 127)_0_7 FieldElement(223)\n",
      "s = 101, res = Point(194, 172)_0_7 FieldElement(223)\n",
      "s = 102, res = Point(15, 86)_0_7 FieldElement(223)\n",
      "s = 103, res = Point(36, 112)_0_7 FieldElement(223)\n",
      "s = 104, res = Point(47, 152)_0_7 FieldElement(223)\n",
      "s = 105, res = Point(Infinity)\n",
      "s = 106, res = Point(47, 71)_0_7 FieldElement(223)\n",
      "s = 107, res = Point(36, 111)_0_7 FieldElement(223)\n",
      "s = 108, res = Point(15, 137)_0_7 FieldElement(223)\n",
      "s = 109, res = Point(194, 51)_0_7 FieldElement(223)\n",
      "s = 110, res = Point(126, 96)_0_7 FieldElement(223)\n",
      "s = 111, res = Point(139, 137)_0_7 FieldElement(223)\n",
      "s = 112, res = Point(92, 47)_0_7 FieldElement(223)\n",
      "s = 113, res = Point(116, 55)_0_7 FieldElement(223)\n",
      "s = 114, res = Point(69, 86)_0_7 FieldElement(223)\n",
      "s = 115, res = Point(154, 150)_0_7 FieldElement(223)\n",
      "s = 116, res = Point(154, 73)_0_7 FieldElement(223)\n",
      "s = 117, res = Point(69, 137)_0_7 FieldElement(223)\n",
      "s = 118, res = Point(116, 168)_0_7 FieldElement(223)\n",
      "s = 119, res = Point(92, 176)_0_7 FieldElement(223)\n",
      "s = 120, res = Point(139, 86)_0_7 FieldElement(223)\n",
      "s = 121, res = Point(126, 127)_0_7 FieldElement(223)\n",
      "s = 122, res = Point(194, 172)_0_7 FieldElement(223)\n",
      "s = 123, res = Point(15, 86)_0_7 FieldElement(223)\n",
      "s = 124, res = Point(36, 112)_0_7 FieldElement(223)\n",
      "s = 125, res = Point(47, 152)_0_7 FieldElement(223)\n",
      "s = 126, res = Point(Infinity)\n",
      "s = 127, res = Point(47, 71)_0_7 FieldElement(223)\n",
      "s = 128, res = Point(36, 111)_0_7 FieldElement(223)\n",
      "s = 129, res = Point(15, 137)_0_7 FieldElement(223)\n",
      "s = 130, res = Point(194, 51)_0_7 FieldElement(223)\n",
      "s = 131, res = Point(126, 96)_0_7 FieldElement(223)\n",
      "s = 132, res = Point(139, 137)_0_7 FieldElement(223)\n",
      "s = 133, res = Point(92, 47)_0_7 FieldElement(223)\n",
      "s = 134, res = Point(116, 55)_0_7 FieldElement(223)\n",
      "s = 135, res = Point(69, 86)_0_7 FieldElement(223)\n",
      "s = 136, res = Point(154, 150)_0_7 FieldElement(223)\n",
      "s = 137, res = Point(154, 73)_0_7 FieldElement(223)\n",
      "s = 138, res = Point(69, 137)_0_7 FieldElement(223)\n",
      "s = 139, res = Point(116, 168)_0_7 FieldElement(223)\n",
      "s = 140, res = Point(92, 176)_0_7 FieldElement(223)\n",
      "s = 141, res = Point(139, 86)_0_7 FieldElement(223)\n",
      "s = 142, res = Point(126, 127)_0_7 FieldElement(223)\n",
      "s = 143, res = Point(194, 172)_0_7 FieldElement(223)\n",
      "s = 144, res = Point(15, 86)_0_7 FieldElement(223)\n",
      "s = 145, res = Point(36, 112)_0_7 FieldElement(223)\n",
      "s = 146, res = Point(47, 152)_0_7 FieldElement(223)\n",
      "s = 147, res = Point(Infinity)\n",
      "s = 148, res = Point(47, 71)_0_7 FieldElement(223)\n",
      "s = 149, res = Point(36, 111)_0_7 FieldElement(223)\n",
      "s = 150, res = Point(15, 137)_0_7 FieldElement(223)\n",
      "s = 151, res = Point(194, 51)_0_7 FieldElement(223)\n",
      "s = 152, res = Point(126, 96)_0_7 FieldElement(223)\n",
      "s = 153, res = Point(139, 137)_0_7 FieldElement(223)\n",
      "s = 154, res = Point(92, 47)_0_7 FieldElement(223)\n",
      "s = 155, res = Point(116, 55)_0_7 FieldElement(223)\n",
      "s = 156, res = Point(69, 86)_0_7 FieldElement(223)\n",
      "s = 157, res = Point(154, 150)_0_7 FieldElement(223)\n",
      "s = 158, res = Point(154, 73)_0_7 FieldElement(223)\n",
      "s = 159, res = Point(69, 137)_0_7 FieldElement(223)\n",
      "s = 160, res = Point(116, 168)_0_7 FieldElement(223)\n",
      "s = 161, res = Point(92, 176)_0_7 FieldElement(223)\n",
      "s = 162, res = Point(139, 86)_0_7 FieldElement(223)\n",
      "s = 163, res = Point(126, 127)_0_7 FieldElement(223)\n",
      "s = 164, res = Point(194, 172)_0_7 FieldElement(223)\n",
      "s = 165, res = Point(15, 86)_0_7 FieldElement(223)\n",
      "s = 166, res = Point(36, 112)_0_7 FieldElement(223)\n",
      "s = 167, res = Point(47, 152)_0_7 FieldElement(223)\n",
      "s = 168, res = Point(Infinity)\n",
      "s = 169, res = Point(47, 71)_0_7 FieldElement(223)\n",
      "s = 170, res = Point(36, 111)_0_7 FieldElement(223)\n",
      "s = 171, res = Point(15, 137)_0_7 FieldElement(223)\n",
      "s = 172, res = Point(194, 51)_0_7 FieldElement(223)\n",
      "s = 173, res = Point(126, 96)_0_7 FieldElement(223)\n",
      "s = 174, res = Point(139, 137)_0_7 FieldElement(223)\n",
      "s = 175, res = Point(92, 47)_0_7 FieldElement(223)\n",
      "s = 176, res = Point(116, 55)_0_7 FieldElement(223)\n",
      "s = 177, res = Point(69, 86)_0_7 FieldElement(223)\n",
      "s = 178, res = Point(154, 150)_0_7 FieldElement(223)\n",
      "s = 179, res = Point(154, 73)_0_7 FieldElement(223)\n",
      "s = 180, res = Point(69, 137)_0_7 FieldElement(223)\n",
      "s = 181, res = Point(116, 168)_0_7 FieldElement(223)\n",
      "s = 182, res = Point(92, 176)_0_7 FieldElement(223)\n",
      "s = 183, res = Point(139, 86)_0_7 FieldElement(223)\n",
      "s = 184, res = Point(126, 127)_0_7 FieldElement(223)\n",
      "s = 185, res = Point(194, 172)_0_7 FieldElement(223)\n",
      "s = 186, res = Point(15, 86)_0_7 FieldElement(223)\n",
      "s = 187, res = Point(36, 112)_0_7 FieldElement(223)\n",
      "s = 188, res = Point(47, 152)_0_7 FieldElement(223)\n",
      "s = 189, res = Point(Infinity)\n",
      "s = 190, res = Point(47, 71)_0_7 FieldElement(223)\n",
      "s = 191, res = Point(36, 111)_0_7 FieldElement(223)\n",
      "s = 192, res = Point(15, 137)_0_7 FieldElement(223)\n",
      "s = 193, res = Point(194, 51)_0_7 FieldElement(223)\n",
      "s = 194, res = Point(126, 96)_0_7 FieldElement(223)\n",
      "s = 195, res = Point(139, 137)_0_7 FieldElement(223)\n",
      "s = 196, res = Point(92, 47)_0_7 FieldElement(223)\n",
      "s = 197, res = Point(116, 55)_0_7 FieldElement(223)\n",
      "s = 198, res = Point(69, 86)_0_7 FieldElement(223)\n",
      "s = 199, res = Point(154, 150)_0_7 FieldElement(223)\n",
      "s = 200, res = Point(154, 73)_0_7 FieldElement(223)\n",
      "s = 201, res = Point(69, 137)_0_7 FieldElement(223)\n",
      "s = 202, res = Point(116, 168)_0_7 FieldElement(223)\n",
      "s = 203, res = Point(92, 176)_0_7 FieldElement(223)\n",
      "s = 204, res = Point(139, 86)_0_7 FieldElement(223)\n",
      "s = 205, res = Point(126, 127)_0_7 FieldElement(223)\n",
      "s = 206, res = Point(194, 172)_0_7 FieldElement(223)\n",
      "s = 207, res = Point(15, 86)_0_7 FieldElement(223)\n",
      "s = 208, res = Point(36, 112)_0_7 FieldElement(223)\n",
      "s = 209, res = Point(47, 152)_0_7 FieldElement(223)\n",
      "s = 210, res = Point(Infinity)\n",
      "s = 211, res = Point(47, 71)_0_7 FieldElement(223)\n",
      "s = 212, res = Point(36, 111)_0_7 FieldElement(223)\n",
      "s = 213, res = Point(15, 137)_0_7 FieldElement(223)\n",
      "s = 214, res = Point(194, 51)_0_7 FieldElement(223)\n",
      "s = 215, res = Point(126, 96)_0_7 FieldElement(223)\n",
      "s = 216, res = Point(139, 137)_0_7 FieldElement(223)\n",
      "s = 217, res = Point(92, 47)_0_7 FieldElement(223)\n",
      "s = 218, res = Point(116, 55)_0_7 FieldElement(223)\n",
      "s = 219, res = Point(69, 86)_0_7 FieldElement(223)\n",
      "s = 220, res = Point(154, 150)_0_7 FieldElement(223)\n",
      "s = 221, res = Point(154, 73)_0_7 FieldElement(223)\n",
      "s = 222, res = Point(69, 137)_0_7 FieldElement(223)\n",
      "s = 223, res = Point(116, 168)_0_7 FieldElement(223)\n"
     ]
    }
   ],
   "source": [
    "prime = 223\n",
    "a = FieldElement(0, prime)\n",
    "b = FieldElement(7, prime)\n",
    "x = FieldElement(47, prime)\n",
    "y = FieldElement(71, prime)\n",
    "P0 = Point(x, y, a, b)\n",
    "for s in range(1, 224):\n",
    "    print(\"s = {0}, res = {1}\".format(s, s * P0))"
   ]
  },
  {
   "cell_type": "code",
   "execution_count": 4,
   "metadata": {},
   "outputs": [
    {
     "data": {
      "text/plain": [
       "Point(Infinity)"
      ]
     },
     "execution_count": 4,
     "metadata": {},
     "output_type": "execute_result"
    }
   ],
   "source": [
    "21*P0"
   ]
  },
  {
   "cell_type": "code",
   "execution_count": 5,
   "metadata": {},
   "outputs": [],
   "source": [
    "### Define secp256k1 ###\n",
    "a = 0\n",
    "b = 7\n",
    "p = 2**256 - 2**32 - 977\n",
    "x = 0x79be667ef9dcbbac55a06295ce870b07029bfcdb2dce28d959f2815b16f81798\n",
    "y = 0x483ada7726a3c4655da4fbfc0e1108a8fd17b448a68554199c47d08ffb10d4b8\n",
    "n = 0xfffffffffffffffffffffffffffffffebaaedce6af48a03bbfd25e8cd0364141\n",
    "G = Point(FieldElement(x, p), FieldElement(y, p), FieldElement(a, p), FieldElement(b, p))"
   ]
  },
  {
   "cell_type": "code",
   "execution_count": 6,
   "metadata": {},
   "outputs": [
    {
     "name": "stdout",
     "output_type": "stream",
     "text": [
      "Point(55066263022277343669578718895168534326250603453777594175500187360389116729240, 32670510020758816978083085130507043184471273380659243275938904335757337482424)_0_7 FieldElement(115792089237316195423570985008687907853269984665640564039457584007908834671663)\n"
     ]
    }
   ],
   "source": [
    "print(G)"
   ]
  },
  {
   "cell_type": "code",
   "execution_count": 7,
   "metadata": {},
   "outputs": [
    {
     "data": {
      "text/plain": [
       "Point(Infinity)"
      ]
     },
     "execution_count": 7,
     "metadata": {},
     "output_type": "execute_result"
    }
   ],
   "source": [
    "n * G"
   ]
  },
  {
   "cell_type": "code",
   "execution_count": 8,
   "metadata": {},
   "outputs": [
    {
     "data": {
      "text/plain": [
       "Point(55066263022277343669578718895168534326250603453777594175500187360389116729240, 32670510020758816978083085130507043184471273380659243275938904335757337482424)_0_7 FieldElement(115792089237316195423570985008687907853269984665640564039457584007908834671663)"
      ]
     },
     "execution_count": 8,
     "metadata": {},
     "output_type": "execute_result"
    }
   ],
   "source": [
    "(n + 1)*G"
   ]
  },
  {
   "cell_type": "code",
   "execution_count": 9,
   "metadata": {},
   "outputs": [
    {
     "data": {
      "text/plain": [
       "Point(55066263022277343669578718895168534326250603453777594175500187360389116729240, 83121579216557378445487899878180864668798711284981320763518679672151497189239)_0_7 FieldElement(115792089237316195423570985008687907853269984665640564039457584007908834671663)"
      ]
     },
     "execution_count": 9,
     "metadata": {},
     "output_type": "execute_result"
    }
   ],
   "source": [
    "(n - 1)*G"
   ]
  },
  {
   "cell_type": "code",
   "execution_count": 10,
   "metadata": {},
   "outputs": [],
   "source": [
    "from random import SystemRandom\n",
    "_sysrand = SystemRandom()\n",
    "k = _sysrand.getrandbits(256)"
   ]
  },
  {
   "cell_type": "code",
   "execution_count": 11,
   "metadata": {},
   "outputs": [
    {
     "data": {
      "text/plain": [
       "Point(76324012147034086473860086255694544497458330842310039005609537054315584542954, 108300888880877735345624148604438007128126276161158402218173264528331587784258)_0_7 FieldElement(115792089237316195423570985008687907853269984665640564039457584007908834671663)"
      ]
     },
     "execution_count": 11,
     "metadata": {},
     "output_type": "execute_result"
    }
   ],
   "source": [
    "k * G"
   ]
  },
  {
   "cell_type": "code",
   "execution_count": 12,
   "metadata": {},
   "outputs": [
    {
     "data": {
      "text/plain": [
       "256"
      ]
     },
     "execution_count": 12,
     "metadata": {},
     "output_type": "execute_result"
    }
   ],
   "source": [
    "int(n).bit_length()"
   ]
  },
  {
   "cell_type": "code",
   "execution_count": 13,
   "metadata": {},
   "outputs": [
    {
     "data": {
      "text/plain": [
       "115792089237316195423570985008687907853269984665640564039457584007913129639936"
      ]
     },
     "execution_count": 13,
     "metadata": {},
     "output_type": "execute_result"
    }
   ],
   "source": [
    "2**256"
   ]
  },
  {
   "cell_type": "code",
   "execution_count": 14,
   "metadata": {},
   "outputs": [
    {
     "data": {
      "text/plain": [
       "115792089237316195423570985008687907852837564279074904382605163141518161494337"
      ]
     },
     "execution_count": 14,
     "metadata": {},
     "output_type": "execute_result"
    }
   ],
   "source": [
    "n"
   ]
  },
  {
   "cell_type": "code",
   "execution_count": 15,
   "metadata": {},
   "outputs": [],
   "source": [
    "assert(n < 2 ** 256)"
   ]
  },
  {
   "cell_type": "code",
   "execution_count": 16,
   "metadata": {},
   "outputs": [],
   "source": [
    "G = S256Point(X, Y)"
   ]
  },
  {
   "cell_type": "code",
   "execution_count": 17,
   "metadata": {},
   "outputs": [
    {
     "data": {
      "text/plain": [
       "S256Point(Infinity)"
      ]
     },
     "execution_count": 17,
     "metadata": {},
     "output_type": "execute_result"
    }
   ],
   "source": [
    "N * G"
   ]
  },
  {
   "cell_type": "code",
   "execution_count": 18,
   "metadata": {},
   "outputs": [
    {
     "data": {
      "text/plain": [
       "S256Point(FieldElement_115792089237316195423570985008687907853269984665640564039457584007908834671663(55066263022277343669578718895168534326250603453777594175500187360389116729240), FieldElement_115792089237316195423570985008687907853269984665640564039457584007908834671663(83121579216557378445487899878180864668798711284981320763518679672151497189239))"
      ]
     },
     "execution_count": 18,
     "metadata": {},
     "output_type": "execute_result"
    }
   ],
   "source": [
    "(N - 1)* G"
   ]
  },
  {
   "cell_type": "code",
   "execution_count": 19,
   "metadata": {},
   "outputs": [],
   "source": [
    "assert(G == (N + 1)* G)"
   ]
  },
  {
   "cell_type": "markdown",
   "metadata": {},
   "source": [
    "#### Reference: \"Programming Bitcoin: Learn How to Program Bitcoin from Scratch\", 1st Edition, 2019"
   ]
  }
 ],
 "metadata": {
  "kernelspec": {
   "display_name": "Python 3",
   "language": "python",
   "name": "python3"
  },
  "language_info": {
   "codemirror_mode": {
    "name": "ipython",
    "version": 3
   },
   "file_extension": ".py",
   "mimetype": "text/x-python",
   "name": "python",
   "nbconvert_exporter": "python",
   "pygments_lexer": "ipython3",
   "version": "3.7.4"
  }
 },
 "nbformat": 4,
 "nbformat_minor": 2
}

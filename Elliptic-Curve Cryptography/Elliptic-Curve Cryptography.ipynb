{
 "cells": [
  {
   "cell_type": "markdown",
   "metadata": {},
   "source": [
    "#### The code below is adapted from the book \"Programming Bitcoin\" written by Jimmy Song"
   ]
  },
  {
   "cell_type": "code",
   "execution_count": 6,
   "metadata": {},
   "outputs": [],
   "source": [
    "class FieldElement:\n",
    "    def __init__(self, num, prime):\n",
    "        if num >= prime or num < 0:\n",
    "            raise ValueError(\"Number {0} is not in the field range 0 to {1}\".format(num, prime - 1))\n",
    "        self.num = num\n",
    "        self.prime = prime\n",
    "        \n",
    "    def __eq__(self, other):\n",
    "        if not other:\n",
    "            return False\n",
    "        elif self.num == other.num and self.prime == other.prime:\n",
    "            return True\n",
    "        else:\n",
    "            return False\n",
    "    \n",
    "    def __ne__(self, other):\n",
    "        if not other:\n",
    "            return False\n",
    "        elif self.num != other.num or self.prime != other.prime:\n",
    "            return True\n",
    "        else:\n",
    "            return False\n",
    "        \n",
    "    def __repr__(self):\n",
    "        return 'FieldElement_{0}({1})'.format(self.prime, self.num)\n",
    "    \n",
    "    def __add__(self, other):\n",
    "        if self.prime != other.prime:\n",
    "            raise TypeError(\"Cannot add two numbers in different fields.\")\n",
    "        num = (self.num + other.num) % self.prime\n",
    "        return self.__class__(num, self.prime)\n",
    "    \n",
    "    def __sub__(self, other):\n",
    "        if self.prime != other.prime:\n",
    "            raise TypeError(\"Cannot subtract two numbers in different fields.\")\n",
    "        num = (self.num - other.num) % self.prime\n",
    "        return self.__class__(num, self.prime)\n",
    "    \n",
    "    def __mul__(self, other):\n",
    "        if self.prime != other.prime:\n",
    "            raise TypeError(\"Cannot multiply two numbers in different fields\")\n",
    "        num = 0\n",
    "        for _ in range(other.num):\n",
    "            num += self.num\n",
    "        num = num % self.prime\n",
    "        return self.__class__(num, self.prime)\n",
    "    \n",
    "    def __pow__(self, exponent):\n",
    "        n = exponent % (self.prime - 1)\n",
    "        num = pow(self.num, n, self.prime)\n",
    "        return self.__class__(num, self.prime)\n",
    "    \n",
    "    def __truediv__(self, other):\n",
    "        if self.prime != other.prime:\n",
    "            raise TypeError(\"Cannot divide two numbers in different fields.\")\n",
    "        num = self.num * pow(other.num, other.prime - 2, other.prime) % self.prime\n",
    "        return self.__class__(num, self.prime)\n",
    "    \n",
    "class Point:\n",
    "    def __init__(self, x, y, a, b):\n",
    "        self.a = a\n",
    "        self.b = b\n",
    "        self.x = x\n",
    "        self.y = y\n",
    "        if self.x is None and self.y is None:\n",
    "            return\n",
    "        if self.y**2 != self.x**3 + a * x + b:\n",
    "            raise ValueError(\"({0}, {1}) is not on the curve\".format(x, y))\n",
    "    \n",
    "    def __repr__(self):\n",
    "        return \"Point({0},{1})_{2}_{3}\".format(self.x, self.y, self.a, self.b)\n",
    "    \n",
    "    def __eq__(self, other):\n",
    "        return self.x == other.x and self.y == other.y and self.a == other.a and self.b == other.b\n",
    "    \n",
    "    def __ne__(self, other):\n",
    "        return self.x != other.x or self.y != other.y or self.a != other.a or self.b != other.b\n",
    "    \n",
    "    def __add__(self, other):\n",
    "        if self.a != other.a or self.b != other.b:\n",
    "            raise TypeError(\"Points {0}, {1} are not on the same curve\".format(self, other))\n",
    "        if self.x is None:\n",
    "            return other\n",
    "        if other.x is None:\n",
    "            return self\n",
    "        if self.x == other.x and self.y == -other.y:\n",
    "            return __class__(None, None, self.a, self.b)\n",
    "        if self.x != other.x:\n",
    "            s = (other.y - self.y)/(other.x - self.x)\n",
    "            x = s**2 - self.x - other.x\n",
    "            y = s * (self.x - x) - self.y\n",
    "            return __class__(x, y, self.a, self.b)"
   ]
  },
  {
   "cell_type": "code",
   "execution_count": 7,
   "metadata": {},
   "outputs": [
    {
     "data": {
      "text/plain": [
       "Point(3.0,-7.0)_5_7"
      ]
     },
     "execution_count": 7,
     "metadata": {},
     "output_type": "execute_result"
    }
   ],
   "source": [
    "p1 = Point(2, 5, 5, 7)\n",
    "p2 = Point(-1, -1, 5, 7)\n",
    "p1 + p2"
   ]
  }
 ],
 "metadata": {
  "kernelspec": {
   "display_name": "Python 3",
   "language": "python",
   "name": "python3"
  },
  "language_info": {
   "codemirror_mode": {
    "name": "ipython",
    "version": 3
   },
   "file_extension": ".py",
   "mimetype": "text/x-python",
   "name": "python",
   "nbconvert_exporter": "python",
   "pygments_lexer": "ipython3",
   "version": "3.7.4"
  }
 },
 "nbformat": 4,
 "nbformat_minor": 2
}

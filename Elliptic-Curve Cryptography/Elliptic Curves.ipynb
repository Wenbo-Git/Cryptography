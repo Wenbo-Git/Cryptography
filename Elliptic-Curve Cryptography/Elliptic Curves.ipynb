{
 "cells": [
  {
   "cell_type": "markdown",
   "metadata": {},
   "source": [
    "$y^{2} = x^{3} + a * x + b$"
   ]
  },
  {
   "cell_type": "code",
   "execution_count": 66,
   "metadata": {},
   "outputs": [],
   "source": [
    "import numpy as np\n",
    "import matplotlib.pyplot as plt\n",
    "\n",
    "def plot_elliptic_curve(a, b):\n",
    "    y, x = np.ogrid[-5:5:100j, -5:5:100j]\n",
    "    plt.contour(x.ravel(), y.ravel(), pow(y, 2) - pow(x, 3) - a * x - b, 0)\n",
    "    plt.grid()"
   ]
  },
  {
   "cell_type": "code",
   "execution_count": 67,
   "metadata": {},
   "outputs": [
    {
     "data": {
      "image/png": "[encoded data removed]",
      "text/plain": [
       "<Figure size 432x288 with 1 Axes>"
      ]
     },
     "metadata": {
      "needs_background": "light"
     },
     "output_type": "display_data"
    }
   ],
   "source": [
    "plot_elliptic_curve(5, 7)"
   ]
  },
  {
   "cell_type": "code",
   "execution_count": 68,
   "metadata": {},
   "outputs": [
    {
     "data": {
      "image/png": "[encoded data removed]",
      "text/plain": [
       "<Figure size 432x288 with 1 Axes>"
      ]
     },
     "metadata": {
      "needs_background": "light"
     },
     "output_type": "display_data"
    }
   ],
   "source": [
    "plot_elliptic_curve(0, 7)"
   ]
  },
  {
   "cell_type": "markdown",
   "metadata": {},
   "source": [
    "<img src=\"img1.png\">"
   ]
  },
  {
   "cell_type": "markdown",
   "metadata": {},
   "source": [
    "<img src=\"img2.png\">\n",
    "$P_{1} = (x_{1}, y_{1}), P_{2} = (x_{2}, y_{2}), P_{3} = (x_{3}, y_{3})$\n",
    "<br><br>\n",
    "$P_{1} + P_{2} = P_{3}$\n",
    "<br><br>\n",
    "$s = \\frac {y_{2} - y_{1}}{x_{2} - x_{1}}, y = s * (x - x_{1}) + y_{1}$ (1)\n",
    "<br><br>\n",
    "$y^{2} = (s * (x - x_{1}) + y_{1})^{2} = x^{3} + a * x + b$\n",
    "<br><br>\n",
    "$s^{2}(x - x_{1})^{2} + 2s * (x - x_{1})*y_{1} + y_{1}^{2} = x^{3} + a * x + b$\n",
    "<br><br>\n",
    "$s^{2}(x^{2} - 2xx_{1} + x_{1}^{2}) + 2s * (x - x_{1})*y_{1} + y_{1}^{2} = x^{3} + a * x + b$\n",
    "<br><br>\n",
    "$s^{2}x^{2} - 2xx_{1}s^{2} + x_{1}^{2}s^{2} + 2sxy_{1} - 2sx_{1}y_{1} + y_{1}^{2} = x^{3} + a * x + b$\n",
    "<br><br>\n",
    "$x^{3} + a * x + b - s^{2}x^{2} + 2xx_{1}s^{2} - x_{1}^{2}s^{2} - 2sxy_{1} + 2sx_{1}y_{1} - y_{1}^{2} = 0$\n",
    "<br><br>\n",
    "$x^{3} - s^{2}x^{2} + (a + 2x_{1}s^{2} - 2sy_{1})x - x_{1}^{2}s^{2} + 2sx_{1}y_{1} - y_{1}^{2} + b = 0$ (2)\n",
    "<br><br>\n",
    "$(x - x_{1})(x - x_{2})(x - x_{3}) = 0$\n",
    "<br><br>\n",
    "$x^{3} - (x_{1} + x_{2} + x_{3})x^{2} + (x_{1}x_{2} + x_{1}x_{3} + x_{2}x_{3})x - x_{1}x_{2}x_{3} = 0$ (3)\n",
    "<br><br>\n",
    "$s^{2} = x_{1} + x_{2} + x_{3}$\n",
    "<br><br>\n",
    "$x_{3} = s^{2} - x_{1} - x_{2}$ (4)\n",
    "<br><br>\n",
    "$y_{3} = -(s(x_{3} - x_{1}) + y_{1})$\n",
    "<br><br>\n",
    "$= s(x_{1} - x_{3}) - y_{1}$ (5)"
   ]
  },
  {
   "cell_type": "markdown",
   "metadata": {},
   "source": [
    "<img src=\"img3.png\">\n",
    "$y^{2} = x^{3} + a * x + b$\n",
    "<br><br>\n",
    "$2ydy = (3x^{2} + a)dx$\n",
    "<br><br>\n",
    "$s = \\frac{dy}{dx} = \\frac{3x^{2} + a}{2y}$ (6)\n",
    "<br><br>\n",
    "$x_{3} = s^{2} - 2x_{1}$ (7)\n",
    "<br><br>\n",
    "$y_{3} = s(x_{1} - x_{3}) - y_{1}$ (8)"
   ]
  },
  {
   "cell_type": "markdown",
   "metadata": {},
   "source": [
    "<img src=\"img4.png\">"
   ]
  },
  {
   "cell_type": "code",
   "execution_count": 62,
   "metadata": {},
   "outputs": [],
   "source": [
    "class Point:\n",
    "    def __init__(self, x, y, a, b):\n",
    "        self.x = x\n",
    "        self.y = y\n",
    "        self.a = a\n",
    "        self.b = b\n",
    "        if self.x == None and self.y == None:\n",
    "            return \n",
    "        if self.y ** 2 != self.x ** 3 + a * x + b:\n",
    "            raise ValueError(\"({0}, {1}) is not on the curve.\".format(x, y))\n",
    "            \n",
    "    def __repr__(self):\n",
    "        if self.x is None and self.y is None:\n",
    "            return \"Point(Infinity)\"\n",
    "        else:\n",
    "            return \"Point({0}, {1})_{2}_{3}\".format(self.x, self.y, self.a, self.b)\n",
    "        \n",
    "    def __eq__(self, other):\n",
    "        return self.x == other.x and self.y == other.y and self.a == other.a and self.b == other.b\n",
    "    \n",
    "    def __ne__(self, other):\n",
    "        return self.x != other.x or self.y != other.y or self.a != other.a or self.b != other.b\n",
    "    \n",
    "    def __add__(self, other):\n",
    "        if self.a != other.a or self.b != other.b:\n",
    "            raise TypeError(\"Point {0} and {1} are not on the same curve\".format(self, other))\n",
    "            \n",
    "        if self.x is None:\n",
    "            return other\n",
    "        \n",
    "        if other.x is None:\n",
    "            return self\n",
    "        \n",
    "        if self.x == other.x and self.y == -other.y:\n",
    "            return self.__class__(None, None, self.a, self.b)\n",
    "        \n",
    "        if self.x != other.x:\n",
    "            s = (other.y - self.y)/(other.x - self.x)\n",
    "            x = s ** 2 - self.x - other.x\n",
    "            y = s * (self.x - x) - self.y\n",
    "            return self.__class__(x, y, self.a, self.b)\n",
    "        \n",
    "        if self == other:\n",
    "            if self.y == 0:\n",
    "                return self.__class__(None, None, self.a, self.b)\n",
    "            else:\n",
    "                s = (3 * self.x ** 2 + self.a) / (2 * self.y)\n",
    "                x = s ** 2 - 2 * self.x\n",
    "                y = s * (self.x - x) - self.y\n",
    "                return self.__class__(x, y, self.a, self.b)"
   ]
  },
  {
   "cell_type": "markdown",
   "metadata": {},
   "source": [
    "#### Reference: \"Programming Bitcoin: Learn How to Program Bitcoin from Scratch\", 1st Edition, 2019"
   ]
  }
 ],
 "metadata": {
  "kernelspec": {
   "display_name": "Python 3",
   "language": "python",
   "name": "python3"
  },
  "language_info": {
   "codemirror_mode": {
    "name": "ipython",
    "version": 3
   },
   "file_extension": ".py",
   "mimetype": "text/x-python",
   "name": "python",
   "nbconvert_exporter": "python",
   "pygments_lexer": "ipython3",
   "version": "3.7.4"
  }
 },
 "nbformat": 4,
 "nbformat_minor": 2
}

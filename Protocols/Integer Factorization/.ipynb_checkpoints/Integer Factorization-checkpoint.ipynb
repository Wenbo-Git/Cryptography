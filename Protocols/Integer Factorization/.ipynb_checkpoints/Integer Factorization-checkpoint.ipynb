{
 "cells": [
  {
   "cell_type": "markdown",
   "metadata": {},
   "source": [
    "#### Please note this notebook is only for educational purpose."
   ]
  },
  {
   "cell_type": "code",
   "execution_count": null,
   "metadata": {},
   "outputs": [],
   "source": [
    "import random\n",
    "\n",
    "def gcd(a, b):\n",
    "    return a if b == 0 else gcd(b, a % b)\n",
    "\n",
    "def pollard_rho(n):\n",
    "    i = 1\n",
    "    x = random.randrange(0, n - 1)\n",
    "    y = x\n",
    "    k = 2\n",
    "    while True:\n",
    "        i += 1\n",
    "        x = (x ** 2 - 1) % n\n",
    "        d = gcd(y - x, n)\n",
    "        if d != 1 and d != n:\n",
    "             print(\"factor = {0}\".format(d))\n",
    "        if i == k:\n",
    "            y = x\n",
    "            k *= 2"
   ]
  },
  {
   "cell_type": "code",
   "execution_count": null,
   "metadata": {
    "scrolled": false
   },
   "outputs": [],
   "source": [
    "# factoring a prime number 13373264125643791 \n",
    "pollard_rho(13373264125643791)"
   ]
  },
  {
   "cell_type": "code",
   "execution_count": null,
   "metadata": {
    "scrolled": false
   },
   "outputs": [],
   "source": [
    "# factoring a composite number 243587249066014526390865022007807\n",
    "pollard_rho(243587249066014526390865022007807)"
   ]
  },
  {
   "cell_type": "code",
   "execution_count": null,
   "metadata": {
    "scrolled": false
   },
   "outputs": [],
   "source": [
    "# factoring a composite number 52502734812763034\n",
    "pollard_rho(52502734812763034)"
   ]
  }
 ],
 "metadata": {
  "kernelspec": {
   "display_name": "Python 3",
   "language": "python",
   "name": "python3"
  },
  "language_info": {
   "codemirror_mode": {
    "name": "ipython",
    "version": 3
   },
   "file_extension": ".py",
   "mimetype": "text/x-python",
   "name": "python",
   "nbconvert_exporter": "python",
   "pygments_lexer": "ipython3",
   "version": "3.7.4"
  }
 },
 "nbformat": 4,
 "nbformat_minor": 2
}

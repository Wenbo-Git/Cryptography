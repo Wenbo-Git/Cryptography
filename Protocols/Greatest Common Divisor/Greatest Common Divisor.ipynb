{
 "cells": [
  {
   "cell_type": "markdown",
   "metadata": {},
   "source": [
    "$gcd(a, b) = gcd(b, a \\mod b)$ (Theorem 31.9, GCD recursion theorem, Introduction to Algorithms 3rd Edition)"
   ]
  },
  {
   "cell_type": "code",
   "execution_count": 2,
   "metadata": {},
   "outputs": [
    {
     "data": {
      "text/plain": [
       "'\\ndef gcd_iterative(a, b):\\n    while b != 0:\\n        a, b = b, a % b\\n    return a\\n'"
      ]
     },
     "execution_count": 2,
     "metadata": {},
     "output_type": "execute_result"
    }
   ],
   "source": [
    "def gcd(a, b):\n",
    "    return a if b == 0 else gcd(b, a % b)\n",
    "\n",
    "'''\n",
    "def gcd_iterative(a, b):\n",
    "    while b != 0:\n",
    "        a, b = b, a % b\n",
    "    return a\n",
    "'''"
   ]
  },
  {
   "cell_type": "code",
   "execution_count": 3,
   "metadata": {},
   "outputs": [
    {
     "name": "stdout",
     "output_type": "stream",
     "text": [
      "36\n"
     ]
    }
   ],
   "source": [
    "print(gcd(36, 0))"
   ]
  },
  {
   "cell_type": "markdown",
   "metadata": {},
   "source": [
    "$gcd(a, b) = a * x + b * y: x, y \\in \\mathbb{Z} $ (Theorem 31.2, Introduction to Algorithms 3rd Edition)\n",
    "<br>\n",
    "If $b = 0$, \n",
    "<br>\n",
    "then $gcd(a, b) = a$, and $x = 1$, $y = 0$\n",
    "<br>\n",
    "If $b \\ne 0$,\n",
    "<br>\n",
    "then $gcd(b, a \\mod b) = d = b * x^{\\prime} + (a \\mod b) * y^{\\prime}$\n",
    "<br>\n",
    "$= b * x^{\\prime} + (a - b * q) * y^{\\prime}$\n",
    "<br>\n",
    "$= b * x^{\\prime} + (a - b * \\lfloor a / b \\rfloor) * y^{\\prime}$\n",
    "<br>\n",
    "$= b * x^{\\prime} + a * y^{\\prime} - b * \\lfloor a / b \\rfloor * y^{\\prime}$\n",
    "<br>\n",
    "$= a * y^{\\prime} + b * (x^{\\prime} - \\lfloor a / b \\rfloor * y^{\\prime})$\n",
    "<br>\n",
    "$= gcd(a, b)$ (Theorem 31.9, GCD recursion theorem, Introduction to Algorithms 3rd Edition)\n",
    "<br>$\\therefore x = y^{\\prime}$, $y = x^{\\prime} - \\lfloor a / b \\rfloor * y^{\\prime}$"
   ]
  },
  {
   "cell_type": "code",
   "execution_count": 4,
   "metadata": {},
   "outputs": [],
   "source": [
    "def egcd(a, b):\n",
    "    if b == 0:\n",
    "        return a, 1, 0\n",
    "    else:\n",
    "        d, x_prime, y_prime = egcd(b, a % b)\n",
    "        return d, y_prime, x_prime - (a // b) * y_prime"
   ]
  },
  {
   "cell_type": "code",
   "execution_count": 5,
   "metadata": {},
   "outputs": [],
   "source": [
    "d, x, y = egcd(1234, 56)"
   ]
  },
  {
   "cell_type": "code",
   "execution_count": 6,
   "metadata": {},
   "outputs": [
    {
     "name": "stdout",
     "output_type": "stream",
     "text": [
      "d = 2\n",
      "x = 1\n",
      "y = -22\n"
     ]
    }
   ],
   "source": [
    "print(\"d = {0}\".format(d))\n",
    "print(\"x = {0}\".format(x))\n",
    "print(\"y = {0}\".format(y))"
   ]
  },
  {
   "cell_type": "code",
   "execution_count": 7,
   "metadata": {},
   "outputs": [],
   "source": [
    "assert(d == 1234 * x + 56 * y)"
   ]
  }
 ],
 "metadata": {
  "kernelspec": {
   "display_name": "Python 3",
   "language": "python",
   "name": "python3"
  },
  "language_info": {
   "codemirror_mode": {
    "name": "ipython",
    "version": 3
   },
   "file_extension": ".py",
   "mimetype": "text/x-python",
   "name": "python",
   "nbconvert_exporter": "python",
   "pygments_lexer": "ipython3",
   "version": "3.7.4"
  }
 },
 "nbformat": 4,
 "nbformat_minor": 2
}

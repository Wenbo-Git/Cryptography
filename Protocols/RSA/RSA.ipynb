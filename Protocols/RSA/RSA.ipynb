{
 "cells": [
  {
   "cell_type": "markdown",
   "metadata": {},
   "source": [
    "p and q are two large primes.\n",
    "<br><br>\n",
    "$n = p * q$\n",
    "<br><br>\n",
    "$|\\mathbb{Z}_{n}^{*}| = \\phi(n) = n * \\prod_{\\text{p: p is prime and p|n}} (1 - \\frac{1}{p})$ (Euler’s phi function) $= n * (1 - \\frac{1}{p}) * (1 - \\frac{1}{q})$\n",
    "<br><br>\n",
    "$ = n * (1 - \\frac{1}{q} - \\frac{1}{p} + \\frac{1}{p*q}) = p * q - p - q + 1$\n",
    "<br><br>\n",
    "$ = p * (q - 1) - (q - 1) = (p - 1)*(q - 1)$\n",
    "<br><br>\n",
    "$ gcd(e, \\phi(n)) = 1$\n",
    "<br><br>\n",
    "$(e * d) \\mod \\phi(n) = 1$\n",
    "<br><br>\n",
    "$d \\equiv e^{-1}\\mod \\phi(n)$ (Multiplicative Inverse of e modulo $\\phi(n)$)\n",
    "<br><br>\n",
    "$ P = (e, n)$ (RSA public key)\n",
    "<br><br>\n",
    "$ S = (d, n)$ (RSA private key)\n",
    "<br><br>\n",
    "M is a message.\n",
    "<br><br>\n",
    "Sender uses user's public key/address to encrypt the message M: $P(M) = M^{e}(\\mod n)$\n",
    "<br><br>\n",
    "User uses private key to decrypt the ciphertext: $S(P(M)) = P(M)^{d}(\\mod n) \\equiv M^{e * d}(\\mod n)$\n",
    "<br><br>\n",
    "Claim: $S(P(M)) = M^{e * d}(\\mod n) \\equiv M(\\mod n)$\n",
    "<br><br>\n",
    "Proof:\n",
    "<br><br>\n",
    "$ S(P(M)) = M^{e * d}(\\mod n)$\n",
    "<br><br>\n",
    "$\\because (e * d) \\mod \\phi(n) = 1$\n",
    "<br><br>\n",
    "$\\therefore e * d = k * \\phi(n) + 1 = k * (p - 1) *(q - 1) + 1$\n",
    "<br><br>\n",
    "If $ M \\not \\equiv 0(\\mod p)$,\n",
    "<br><br>\n",
    "$ M^{e*d} \\equiv M^{k * (p - 1)*(q - 1) + 1}(\\mod p)$\n",
    "<br><br>\n",
    "$\\equiv M * (M^{p - 1})^{k * (q - 1)})(\\mod p)$\n",
    "<br><br>\n",
    "$\\equiv M * (M^{p - 1}(\\mod p))^{k * (q - 1)})(\\mod p)$\n",
    "<br><br>\n",
    "$\\equiv M * 1^{k * (q - 1)})(\\mod p)$ (Fermat's Theorem)\n",
    "<br><br>\n",
    "$\\equiv M(\\mod p)$\n",
    "<br><br>\n",
    "If $ M \\equiv 0(\\mod p)$, then\n",
    "<br><br>\n",
    "$ M^{e*d}\\equiv 0(\\mod p) \\equiv M(\\mod p)$\n",
    "<br><br>\n",
    "$\\therefore M^{e*d}(\\mod p) \\equiv M(\\mod p)$, and similarly,\n",
    "<br><br>\n",
    "$M^{e*d}(\\mod q) \\equiv M(\\mod q)$, and\n",
    "<br><br>\n",
    "$M^{e*d}(\\mod n) \\equiv M(\\mod n)$ (Chinese remainder theorem)"
   ]
  }
 ],
 "metadata": {
  "kernelspec": {
   "display_name": "Python 3",
   "language": "python",
   "name": "python3"
  },
  "language_info": {
   "codemirror_mode": {
    "name": "ipython",
    "version": 3
   },
   "file_extension": ".py",
   "mimetype": "text/x-python",
   "name": "python",
   "nbconvert_exporter": "python",
   "pygments_lexer": "ipython3",
   "version": "3.7.4"
  }
 },
 "nbformat": 4,
 "nbformat_minor": 2
}

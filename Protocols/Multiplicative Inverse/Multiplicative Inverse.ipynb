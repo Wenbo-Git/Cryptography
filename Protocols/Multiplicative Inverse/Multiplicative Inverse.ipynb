{
 "cells": [
  {
   "cell_type": "markdown",
   "metadata": {},
   "source": [
    "Multiplicative Inverse:\n",
    "<br>\n",
    "For any $n > 1$, if gcd(a, n) = 1, and $a*x \\equiv 1 (\\mod n)$, then $x \\equiv a^{-1}\\mod n$ is the multiplicative inverse of a, modulo n.\n",
    "<br>\n",
    "$gcd(a, n) = 1 = a * x + n * y$\n",
    "<br>\n",
    "$a * x = n * (-y) + 1$\n",
    "<br>\n",
    "$(a * x) \\mod n = 1$"
   ]
  },
  {
   "cell_type": "code",
   "execution_count": 1,
   "metadata": {},
   "outputs": [],
   "source": [
    "def egcd(a, b):\n",
    "    if b == 0:\n",
    "        return a, 1, 0\n",
    "    else:\n",
    "        d, x_prime, y_prime = egcd(b, a % b)\n",
    "        return d, y_prime, x_prime - (a // b) * y_prime"
   ]
  },
  {
   "cell_type": "code",
   "execution_count": 2,
   "metadata": {},
   "outputs": [],
   "source": [
    "def mul_inv(a, n):\n",
    "    d, x, y = egcd(a, n)\n",
    "    if d == 1:\n",
    "        return x\n",
    "    else:\n",
    "        raise Exception(\"gcd(a, n)!= 1\")"
   ]
  },
  {
   "cell_type": "code",
   "execution_count": 3,
   "metadata": {},
   "outputs": [],
   "source": [
    "inv = mul_inv(12345, 119)"
   ]
  },
  {
   "cell_type": "code",
   "execution_count": 4,
   "metadata": {},
   "outputs": [
    {
     "name": "stdout",
     "output_type": "stream",
     "text": [
      "23\n"
     ]
    }
   ],
   "source": [
    "print(inv)"
   ]
  },
  {
   "cell_type": "code",
   "execution_count": 5,
   "metadata": {},
   "outputs": [
    {
     "data": {
      "text/plain": [
       "1"
      ]
     },
     "execution_count": 5,
     "metadata": {},
     "output_type": "execute_result"
    }
   ],
   "source": [
    "(12345 * 23) % 119"
   ]
  }
 ],
 "metadata": {
  "kernelspec": {
   "display_name": "Python 3",
   "language": "python",
   "name": "python3"
  },
  "language_info": {
   "codemirror_mode": {
    "name": "ipython",
    "version": 3
   },
   "file_extension": ".py",
   "mimetype": "text/x-python",
   "name": "python",
   "nbconvert_exporter": "python",
   "pygments_lexer": "ipython3",
   "version": "3.7.4"
  }
 },
 "nbformat": 4,
 "nbformat_minor": 2
}

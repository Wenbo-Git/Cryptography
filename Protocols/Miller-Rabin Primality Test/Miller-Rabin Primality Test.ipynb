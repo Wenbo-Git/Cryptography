{
 "cells": [
  {
   "cell_type": "markdown",
   "metadata": {},
   "source": [
    "Nontrivial Square Root of 1, Modulo n\n",
    "\n",
    "Theorem 31.34\n",
    "<br>\n",
    "If p is an odd prime and $e \\geq 1$, then the equation $x^{2} \\equiv 1 (\\mod p^{e})$\n",
    "<br>\n",
    "has only two solutions: $x \\equiv 1 (\\mod p^{e})$ and $x \\equiv -1 (\\mod p^{e})$.\n",
    "\n",
    "Proof:\n",
    "<br>\n",
    "$x^{2} \\equiv 1 (\\mod p^{e})$\n",
    "<br>\n",
    "$x^{2} - 1 \\equiv 0 (\\mod p^{e})$\n",
    "<br>\n",
    "$(x + 1)(x - 1) \\equiv 0 (\\mod p^{e})$\n",
    "<br>\n",
    "$p^{e} \\mid (x + 1)(x - 1)$\n",
    "<br>\n",
    "If $p \\mid (x + 1)$ and $p \\mid (x - 1)$ at the same time, then $p \\mid (x + 1) - (x - 1)$ and $p \\mid 2$\n",
    "<br>\n",
    "but p is an odd prime, so $p > 2$ and $p \\nmid 2$.\n",
    "<br>\n",
    "If $p \\mid (x + 1) \\Rightarrow x + 1 \\equiv 0 (\\mod p^{e}) \\Rightarrow x \\equiv -1 (\\mod p^{e})$,\n",
    "<br>\n",
    "If $p \\mid (x - 1) \\Rightarrow x - 1 \\equiv 0 (\\mod p^{e}) \\Rightarrow x \\equiv 1 (\\mod p^{e})$.\n",
    "\n",
    "Corollary 31.35\n",
    "<br>\n",
    "If $x^{2} \\equiv 1 (\\mod n)$, and $x \\not\\equiv 1 (\\mod n)$ and $x \\not\\equiv -1 (\\mod n)$, then n is composite.\n",
    "<br>\n",
    "\n",
    "Proof:\n",
    "<br>\n",
    "If $x^{2} \\equiv 1 (\\mod n)$, and $x \\not\\equiv 1 (\\mod n)$ and $x \\not\\equiv -1 (\\mod n)$, then n is not odd prime or a power of an odd prime (by the contrapositive of Theorem 31.34)\n",
    "<br>\n",
    "If $n = 2$, then $x^{2} \\equiv 1 (\\mod 2) \\Rightarrow x \\equiv 1 (\\mod 2)$, which is a trivial suqare root of 1, modulo 2.\n",
    "<br>\n",
    "If $n = 1$, then $x^{2} \\equiv 0 (\\mod 1)$, so there is no nontrivial square root of 1, modulo 1.\n",
    "<br>\n",
    "Since $n \\ne 1$, $n \\ne 2$, n is not odd prime or a power of an odd prime, n must be composite."
   ]
  },
  {
   "cell_type": "code",
   "execution_count": null,
   "metadata": {},
   "outputs": [],
   "source": [
    "n = 77\n",
    "t, u = 0, n - 1\n",
    "while u % 2 == 0:\n",
    "    u >>= 1\n",
    "    t += 1\n",
    "    print(\"u = \" + str(u) + bin(u))\n",
    "    print(\"t = \" + str(t))\n",
    "assert((2 ** t) * u == n - 1)"
   ]
  },
  {
   "cell_type": "code",
   "execution_count": null,
   "metadata": {},
   "outputs": [],
   "source": [
    "import random\n",
    "\n",
    "def mod_exp(a, b, n):\n",
    "    res, b_2 = 1, bin(b)\n",
    "    for d in b_2:\n",
    "        res = (res * res) % n\n",
    "        if d == \"1\":\n",
    "            res = (res * a) % n\n",
    "    return res"
   ]
  }
 ],
 "metadata": {
  "kernelspec": {
   "display_name": "Python 3",
   "language": "python",
   "name": "python3"
  },
  "language_info": {
   "codemirror_mode": {
    "name": "ipython",
    "version": 3
   },
   "file_extension": ".py",
   "mimetype": "text/x-python",
   "name": "python",
   "nbconvert_exporter": "python",
   "pygments_lexer": "ipython3",
   "version": "3.7.4"
  }
 },
 "nbformat": 4,
 "nbformat_minor": 2
}

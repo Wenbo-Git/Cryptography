{
 "cells": [
  {
   "cell_type": "markdown",
   "metadata": {},
   "source": [
    "p is a prime.\n",
    "<br><br>\n",
    "$\\mathbb{Z}_{p} = \\{1, 2, 3, ... p - 1\\}$\n",
    "<br><br>\n",
    "$\\mathbb{Z}_{p}^{*} = \\{a \\in \\mathbb{Z}_{p}: gcd(a, p) = 1\\}$\n",
    "<br><br>\n",
    "$\\langle a \\rangle = \\{b \\in \\mathbb{Z}_{p}^{*}: b = a^{i} (\\mod p), i = 0, 1, 2, ...\\}$\n",
    "<br><br>\n",
    "$ord_{p}(a) = |\\langle a \\rangle|$\n",
    "<br><br>\n",
    "Example:\n",
    "<br>\n",
    "$p = 7$\n",
    "<br><br>\n",
    "$\\mathbb{Z}_{7} = \\{1, 2, 3, 4, 5, 6\\}$\n",
    "<br><br>\n",
    "$\\mathbb{Z}_{7}^{*} = \\{1, 2, 3, 4, 5, 6\\}$\n",
    "<br><br>\n",
    "$\\langle 2 \\rangle = \\{b \\in \\mathbb{Z}_{7}^{*}: b = 2^{i}(\\mod 7), i = 0, 1, 2, ...\\}$\n",
    "<br><br>\n",
    "$= \\{2^{0}(\\mod 7), 2^{1}(\\mod 7), 2^{2}(\\mod 7), 2^{3} (\\mod 7), 2^{4} (\\mod 7), 2^{5} (\\mod 7), ...\\}$\n",
    "<br><br>\n",
    "$= \\{1, 2, 4, 1, 2, 4,...\\}$\n",
    "<br><br>\n",
    "$= \\{1, 2, 4\\}$\n",
    "<br><br>\n",
    "$\\therefore ord_{7}(2) = 3$\n",
    "<br><br>\n",
    "$\\langle 3 \\rangle = \\{b \\in \\mathbb{Z}_{7}^{*}: b = 3^{i}(\\mod 7), i = 0, 1, 2, ...\\}$\n",
    "<br><br>\n",
    "$= \\{3^{0}(\\mod 7), 3^{1}(\\mod 7), 3^{2}(\\mod 7), 3^{3} (\\mod 7), 3^{4} (\\mod 7), 3^{5} (\\mod 7),3^{6}(\\mod 7),3^{7}(\\mod 7),3^{8}(\\mod 7),3^{9}(\\mod 7),3^{10}(\\mod 7),3^{11}(\\mod 7),...\\}$\n",
    "<br><br>\n",
    "$= \\{1, 3, 2, 6, 4, 5, 1, 3, 2, 6, 4, 5, ...\\}$\n",
    "<br><br>\n",
    "$= \\{1, 3, 2, 6, 4, 5\\}$\n",
    "<br><br>\n",
    "$\\therefore ord_{7}(3) = |\\mathbb{Z}_{7}^{*}| = 6$\n",
    "<br><br>\n",
    "If $ord_{p}(g) = |\\mathbb{Z}_{p}^{*}|$, then g is a primitive root of $\\mathbb{Z}_{p}^{*}$, and\n",
    "<br><br>\n",
    "$\\forall_{a \\in \\mathbb{Z}_{p}^{*}}\\exists_{z}g^{z} \\equiv a(\\mod p)$, and\n",
    "<br><br>\n",
    "z is a discrete logarithm of a modulo p to the base g. Finding $z = log_{g}a (\\mod p)$ is a hard problem (Discrete Logarithm Problem).\n",
    "<br><br>\n",
    "Diffie–Hellman Key Exchange:\n",
    "<br><br>\n",
    "1) Alice and Bob agree on p and g.\n",
    "<br><br>\n",
    "2) Alice chooses an integer a, then computes: $A = g^{a} (\\mod p)$\n",
    "<br><br>\n",
    "3) Bob chooses an integer b, then computes: $B = g^{b} (\\mod p)$\n",
    "<br><br>\n",
    "4) Alice sends A to Bob, and Bob sends B to Alice.\n",
    "<br><br>\n",
    "5) Alice derives the shared secret by: $S = B^{a} (\\mod p) = (g^{b})^{a} (\\mod p) = g^{b * a} (\\mod p)$\n",
    "<br><br>\n",
    "6) Bob derives the shared secret by: $S = A^{b} (\\mod p) = (g^{a})^{b} (\\mod p) = g^{a * b} (\\mod p)$\n",
    "<br><br>\n",
    "7) If Eve knows p, g, A, B, Eve still cannot find S because Eve doesn't know a and b, because finding a and b is a discrete logarithm problem, which is hard."
   ]
  },
  {
   "cell_type": "code",
   "execution_count": 10,
   "metadata": {},
   "outputs": [],
   "source": [
    "import random\n",
    "\n",
    "MILLER_RABIN_TEST_TRIAL_NUMBER = 100\n",
    "\n",
    "def mod_exp(a, b, n):\n",
    "    res, b_2 = 1, bin(b)\n",
    "    for d in b_2:\n",
    "        res = (res * res) % n\n",
    "        if d == \"1\":\n",
    "            res = (res * a) % n\n",
    "    return res\n",
    "\n",
    "def witness(a, n):\n",
    "    t, u = 0, n - 1\n",
    "    while u % 2 == 0:\n",
    "        u >>= 1\n",
    "        t += 1\n",
    "    x = mod_exp(a, u, n)\n",
    "    for _ in range(t):\n",
    "        x_prev = x\n",
    "        x = mod_exp(x_prev, 2, n)\n",
    "        if x == 1 and x_prev != 1 and x_prev != n - 1:\n",
    "            return True\n",
    "    if x != 1:\n",
    "        return True\n",
    "    return False\n",
    "\n",
    "def Miller_Rabin_test(n, s = MILLER_RABIN_TEST_TRIAL_NUMBER):\n",
    "    for _ in range(s):\n",
    "        a = random.randrange(1, n - 1)\n",
    "        if witness(a, n):\n",
    "            return \"composite\"\n",
    "    return \"prime\""
   ]
  },
  {
   "cell_type": "code",
   "execution_count": 11,
   "metadata": {},
   "outputs": [],
   "source": [
    "p_hex_str = \"B10B8F96 A080E01D DE92DE5E AE5D54EC 52C99FBC FB06A3C6\\\n",
    "             9A6A9DCA 52D23B61 6073E286 75A23D18 9838EF1E 2EE652C0\\\n",
    "             13ECB4AE A9061123 24975C3C D49B83BF ACCBDD7D 90C4BD70\\\n",
    "             98488E9C 219A7372 4EFFD6FA E5644738 FAA31A4F F55BCCC0\\\n",
    "             A151AF5F 0DC8B4BD 45BF37DF 365C1A65 E68CFDA7 6D4DA708\\\n",
    "             DF1FB2BC 2E4A4371\"\n",
    "    \n",
    "g_hex_str = \"A4D1CBD5 C3FD3412 6765A442 EFB99905 F8104DD2 58AC507F\\\n",
    "             D6406CFF 14266D31 266FEA1E 5C41564B 777E690F 5504F213\\\n",
    "             160217B4 B01B886A 5E91547F 9E2749F4 D7FBD7D3 B9A92EE1\\\n",
    "             909D0D22 63F80A76 A6A24C08 7A091F53 1DBF0A01 69B6A28A\\\n",
    "             D662A4D1 8E73AFA3 2D779D59 18D08BC8 858F4DCE F97C2A24\\\n",
    "             855E6EEB 22B3B2E5\""
   ]
  },
  {
   "cell_type": "code",
   "execution_count": 12,
   "metadata": {},
   "outputs": [],
   "source": [
    "p = int(p_hex_str.replace(\" \", \"\"), 16)\n",
    "g = int(g_hex_str.replace(\" \", \"\"), 16)"
   ]
  },
  {
   "cell_type": "code",
   "execution_count": 16,
   "metadata": {},
   "outputs": [
    {
     "data": {
      "text/plain": [
       "'prime'"
      ]
     },
     "execution_count": 16,
     "metadata": {},
     "output_type": "execute_result"
    }
   ],
   "source": [
    "Miller_Rabin_test(p)"
   ]
  },
  {
   "cell_type": "code",
   "execution_count": 28,
   "metadata": {},
   "outputs": [],
   "source": [
    "a = random.getrandbits(1024)"
   ]
  },
  {
   "cell_type": "code",
   "execution_count": null,
   "metadata": {},
   "outputs": [],
   "source": [
    "b = random.getrandbits(1024)"
   ]
  },
  {
   "cell_type": "code",
   "execution_count": 29,
   "metadata": {},
   "outputs": [],
   "source": [
    "A = mod_exp(g, a, p)\n",
    "B = mod_exp(g, b, p)"
   ]
  },
  {
   "cell_type": "code",
   "execution_count": 30,
   "metadata": {},
   "outputs": [],
   "source": [
    "S1 = mod_exp(B, a, p)\n",
    "S2 = mod_exp(A, b, p)"
   ]
  },
  {
   "cell_type": "code",
   "execution_count": 31,
   "metadata": {},
   "outputs": [],
   "source": [
    "assert(S1 == S2)"
   ]
  },
  {
   "cell_type": "code",
   "execution_count": 32,
   "metadata": {},
   "outputs": [
    {
     "name": "stdout",
     "output_type": "stream",
     "text": [
      "Shared Secret = 88688805350606086805168586923980037096023772328581827050652237040141930973194035244822329788542651509857467041035341670181161567596340028183379925344362543244608763510612025711005025479012127731315165757979823343040586091275311264818045600766277332966149091842001942055813260981183554160648322343165976530021\n"
     ]
    }
   ],
   "source": [
    "print(\"Shared Secret = {0}\".format(S1))"
   ]
  }
 ],
 "metadata": {
  "kernelspec": {
   "display_name": "Python 3",
   "language": "python",
   "name": "python3"
  },
  "language_info": {
   "codemirror_mode": {
    "name": "ipython",
    "version": 3
   },
   "file_extension": ".py",
   "mimetype": "text/x-python",
   "name": "python",
   "nbconvert_exporter": "python",
   "pygments_lexer": "ipython3",
   "version": "3.7.4"
  }
 },
 "nbformat": 4,
 "nbformat_minor": 2
}

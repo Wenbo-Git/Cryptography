{
 "cells": [
  {
   "cell_type": "markdown",
   "metadata": {},
   "source": [
    "$\\mathbb{Z}_{n} = \\{0, 1, 2, 3, ... n - 1\\}$\n",
    "<br><br>\n",
    "$\\mathbb{Z}_{n}^{*} = \\{a \\in \\mathbb{Z}_{n}: gcd(a, n) = 1\\}$\n",
    "<br><br>\n",
    "Euler’s phi function:\n",
    "<br>\n",
    "$|\\mathbb{Z}_{n}^{*}| = \\phi(n) = n * \\prod_{\\text{p: p is prime and p|n}} (1 - \\frac{1}{p})$\n",
    "<br><br>\n",
    "$|\\mathbb{Z}_{p}^{*}| = \\phi(p) = p * (1 - \\frac{1}{p}) = p - 1, \\text{where p is prime}$\n",
    "<br><br>\n",
    "Euler's Theorem:\n",
    "<br>\n",
    "$\\forall_{a \\in \\mathbb{Z}_{n}^{*}} a^{\\phi(n)} \\equiv 1 (\\mod n), \\text{where } n > 1$\n",
    "<br><br>\n",
    "Fermat's Theorem:\n",
    "<br>\n",
    "If p is prime, then\n",
    "<br>\n",
    "$\\forall_{a \\in \\mathbb{Z}_{p}^{*}} a^{\\phi(p)} = a ^ {p - 1} \\equiv 1 (\\mod p)$"
   ]
  },
  {
   "cell_type": "code",
   "execution_count": 1,
   "metadata": {},
   "outputs": [],
   "source": [
    "def mod_exp(a, b, n):\n",
    "    res, b_2 = 1, bin(b)\n",
    "    for d in b_2:\n",
    "        res = (res * res) % n\n",
    "        if d == \"1\":\n",
    "            res = (res * a) % n\n",
    "    return res\n",
    "\n",
    "def Fermat_test(n):\n",
    "    # use a = 2\n",
    "    if n <= 2:\n",
    "        raise Exception(\"n must be greater than 2.\")\n",
    "    elif mod_exp(2, n - 1, n) != 1:\n",
    "        print(\"{0} is composite.\".format(n))\n",
    "    else:\n",
    "        print(\"{0} is either prime or base-2 pseudoprime\".format(n))\n",
    "        \n",
    "def Fermat_test_slow(n):\n",
    "    # use a = 2\n",
    "    if n <= 2:\n",
    "        raise Exception(\"n must be greater than 2.\")\n",
    "    elif (2 ** (n - 1)) % n != 1:\n",
    "        print(\"{0} is composite.\".format(n))\n",
    "    else:\n",
    "        print(\"{0} is either prime or base-2 pseudoprime\".format(n))"
   ]
  },
  {
   "cell_type": "code",
   "execution_count": 24,
   "metadata": {},
   "outputs": [],
   "source": [
    "import random\n",
    "nums = []\n",
    "for _ in range(40):\n",
    "    nums.append(random.getrandbits(256))"
   ]
  },
  {
   "cell_type": "code",
   "execution_count": 25,
   "metadata": {},
   "outputs": [
    {
     "name": "stdout",
     "output_type": "stream",
     "text": [
      "28786564618142320502936306287615063014089577529864789275246402982158086446942 is composite.\n",
      "114579473619272193187944584488238551457275531707715689557177731554905138883551 is composite.\n",
      "4274770220636814615315504457370963392795997031740857971938969820258892187813 is composite.\n",
      "23661245155310763488221782704816866072113344569249508468517510315593169074444 is composite.\n",
      "110751933872649346800013351925632483784905489996536967381479824404101523161519 is composite.\n",
      "79909004368065763747342528218791766844420564335050550105657883125361497581798 is composite.\n",
      "14228438715431546133674814538810035271869781926676519834966522760078443174921 is composite.\n",
      "40513735304479010898307488523669657979370013501753810070726784481704068537969 is composite.\n",
      "32549363687756133734678199354162766210438535401358289645914580955875153933293 is either prime or base-2 pseudoprime\n",
      "19259768660854394565744907577604974868965627144586137721072822418995456381372 is composite.\n",
      "87503004079163587047650363199655438989849292600247090084641546459294495329932 is composite.\n",
      "12686503147132998103857678437064629187771073035846624928906580466333384705058 is composite.\n",
      "83904284154710695119963780504986820248384525179545373194246077112700596157265 is composite.\n",
      "72665190569100292485944589380182454979424495622681845560988233145227285362009 is composite.\n",
      "5242470513690347083682087429539885796863456862073503696863495830033742256786 is composite.\n",
      "94444529731489843955415700537538045028769757754815539087568297512879342263131 is composite.\n",
      "60314380915988973127995213027404243728567810392431331590070896468219023485391 is either prime or base-2 pseudoprime\n",
      "46067002348633687009354070813700757071223847826129026629142513546330956689239 is composite.\n",
      "21945400282732228077949836014017038417376021977134178992205019680304922350701 is composite.\n",
      "66072167277119610960235657075741235328504261227042638149847385558913574014701 is composite.\n",
      "32812594384365360058652151393016144331173380572844490066664092525736138549709 is composite.\n",
      "50858945284986422145623355091339636312295780726586774619728416495575075513248 is composite.\n",
      "73766020334069790373973772606860481018928760575026838230806747048344995683668 is composite.\n",
      "25099311346325434354145070576050635189111802829219682623493030030022727688371 is composite.\n",
      "29543292482295946054344961386593670082615086669427524407099574677288668678580 is composite.\n",
      "97152562623024086428745807249540860792486111727854819526475319395655323926013 is composite.\n",
      "101057297140752288927495171070392496945344950279152629378831936445973409371446 is composite.\n",
      "21740240353466026713361207075702645611719850523698017022710446837666656549383 is composite.\n",
      "63252532337416238843900545680831203149107776177915919893478686950797159221105 is composite.\n",
      "57680843789048669296345126629760333524991895729902072722283599979529990917739 is composite.\n",
      "94915265865783682372317757952543434288495138924239271655894560078944253323903 is composite.\n",
      "45910499818198673485909888989996254200175050503305855887791866193202868588681 is composite.\n",
      "34063651650075300077416085108416764534837267437643277154049218963225484253414 is composite.\n",
      "49530547480900197288366918160224222747098121982498290210993668372261039597709 is composite.\n",
      "65166447902538303618403350071847509701578188111385413583213549616713763359652 is composite.\n",
      "19310829485459651562540134688396689569189598002848568448494628601634528161135 is composite.\n",
      "20782341807266548984199168606887241994098549826578803482717391656690335246792 is composite.\n",
      "66164974753078240936846567377386145809506769335166331731675547834867253704682 is composite.\n",
      "84770556113047606212881526848633853116506553860515086621897040924024788009224 is composite.\n",
      "16180028834500798226786401903059005363628547249690460315474477355614370277468 is composite.\n"
     ]
    }
   ],
   "source": [
    "for num in nums:\n",
    "    Fermat_test(num)"
   ]
  },
  {
   "cell_type": "code",
   "execution_count": null,
   "metadata": {},
   "outputs": [],
   "source": [
    "for num in nums:\n",
    "    Fermat_test_slow(num)"
   ]
  },
  {
   "cell_type": "code",
   "execution_count": 2,
   "metadata": {},
   "outputs": [
    {
     "name": "stdout",
     "output_type": "stream",
     "text": [
      "645 is either prime or base-2 pseudoprime\n"
     ]
    }
   ],
   "source": [
    "Fermat_test(645)"
   ]
  },
  {
   "cell_type": "code",
   "execution_count": 3,
   "metadata": {},
   "outputs": [
    {
     "data": {
      "text/plain": [
       "1"
      ]
     },
     "execution_count": 3,
     "metadata": {},
     "output_type": "execute_result"
    }
   ],
   "source": [
    "(2 ** (645 - 1)) % 645"
   ]
  }
 ],
 "metadata": {
  "kernelspec": {
   "display_name": "Python 3",
   "language": "python",
   "name": "python3"
  },
  "language_info": {
   "codemirror_mode": {
    "name": "ipython",
    "version": 3
   },
   "file_extension": ".py",
   "mimetype": "text/x-python",
   "name": "python",
   "nbconvert_exporter": "python",
   "pygments_lexer": "ipython3",
   "version": "3.7.4"
  }
 },
 "nbformat": 4,
 "nbformat_minor": 2
}

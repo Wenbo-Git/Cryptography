{
 "cells": [
  {
   "cell_type": "markdown",
   "metadata": {},
   "source": [
    "\\begin{equation}\n",
    "    a^b \\mod n = ?\n",
    "\\end{equation}\n",
    "<br>\n",
    "\\begin{equation}\n",
    "    a^b =\n",
    "    \\begin{cases}\n",
    "      1, &\\text{if}\\ b = 0\\\\\n",
    "      (a^\\frac{b}{2})^2, &\\text{if}\\ b\\ \\text{is even}\\\\\n",
    "      (a^\\frac{b - 1}{2})^2*a, &\\text{if}\\ b\\ \\text{is odd}\\\\\n",
    "    \\end{cases}\n",
    "\\end{equation}\n",
    "<br>\n",
    "\\begin{equation}\n",
    "    3^{35} \\mod 7 \\\\\n",
    "    = (3^\\frac{35 - 1}{2})^2*3 \\mod 7 = (3^{17})^2*3 \\mod 7 \\qquad \\text{(35 = 100011)} \\\\\n",
    "    = ((3^\\frac{17 - 1}{2})^2*3) ^2*3 \\mod 7 = ((3^{8})^2*3) ^2*3 \\mod 7 \\qquad \\text{(17 = 10001)} \\\\\n",
    "    = (((3^\\frac{8}{2})^2)^2*3) ^2*3 \\mod 7 = (((3^{4})^2)^2*3) ^2*3 \\mod 7 \\qquad \\text{(8 = 1000)} \\\\\n",
    "    = ((((3^\\frac{4}{2})^2)^2)^2*3) ^2*3 \\mod 7 = ((((3^{2})^2)^2)^2*3) ^2*3 \\mod 7 \\qquad \\text{(4 = 100)} \\\\\n",
    "    = (((((3^\\frac{2}{2})^2)^2)^2)^2*3) ^2*3 \\mod 7 = (((((3^1)^2)^2)^2)^2*3) ^2*3 \\mod 7 \\qquad \\text{(2 = 10)} \\\\\n",
    "    = (((((((3^\\frac{1 - 1}{2})^2*3)^2)^2)^2)^2*3) ^2*3 \\mod 7 = (((((((3^{0})^2*3)^2)^2)^2)^2*3) ^2*3 \\mod 7 \\qquad \\text{(1 = 1)} \\\\\n",
    "\\end{equation}"
   ]
  },
  {
   "cell_type": "code",
   "execution_count": 3,
   "metadata": {},
   "outputs": [],
   "source": [
    "def modular_exponentiation(a, b, n):\n",
    "    res, b_2 = 1, bin(b)\n",
    "    for d in b_2:\n",
    "        res = (res * res) % n\n",
    "        if d == \"1\":\n",
    "            res = (res * a) % n\n",
    "    return res"
   ]
  },
  {
   "cell_type": "code",
   "execution_count": 4,
   "metadata": {},
   "outputs": [],
   "source": [
    "a = 346467\n",
    "b = 364657\n",
    "n = 6988"
   ]
  },
  {
   "cell_type": "code",
   "execution_count": 5,
   "metadata": {},
   "outputs": [
    {
     "name": "stdout",
     "output_type": "stream",
     "text": [
      "result = 5399\n",
      "0.0\n"
     ]
    }
   ],
   "source": [
    "import time\n",
    "start = time.time()\n",
    "res1 = modular_exponentiation(a, b, n)\n",
    "end = time.time()\n",
    "print(\"result = {0}\".format(res1))\n",
    "print(end - start)"
   ]
  },
  {
   "cell_type": "code",
   "execution_count": 6,
   "metadata": {},
   "outputs": [
    {
     "name": "stdout",
     "output_type": "stream",
     "text": [
      "result = 5399\n",
      "3.4049813747406006\n"
     ]
    }
   ],
   "source": [
    "start = time.time()\n",
    "res2 = (a**b)%n\n",
    "end = time.time()\n",
    "print(\"result = {0}\".format(res2))\n",
    "print(end - start)"
   ]
  }
 ],
 "metadata": {
  "kernelspec": {
   "display_name": "Python 3",
   "language": "python",
   "name": "python3"
  },
  "language_info": {
   "codemirror_mode": {
    "name": "ipython",
    "version": 3
   },
   "file_extension": ".py",
   "mimetype": "text/x-python",
   "name": "python",
   "nbconvert_exporter": "python",
   "pygments_lexer": "ipython3",
   "version": "3.7.4"
  }
 },
 "nbformat": 4,
 "nbformat_minor": 2
}

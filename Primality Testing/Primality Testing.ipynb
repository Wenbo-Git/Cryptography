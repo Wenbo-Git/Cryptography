{
 "cells": [
  {
   "cell_type": "markdown",
   "metadata": {},
   "source": [
    "#### Please note this notebook is only for educational purpose."
   ]
  },
  {
   "cell_type": "code",
   "execution_count": 1,
   "metadata": {},
   "outputs": [],
   "source": [
    "import random\n",
    "\n",
    "def modular_exponentiation(a, b, n):\n",
    "    c = 0\n",
    "    d = 1\n",
    "    b_binary = \"{0:b}\".format(b)\n",
    "    for i in range(0, len(b_binary)):\n",
    "        c = 2 * c\n",
    "        d = (d * d) % n\n",
    "        if b_binary[i] == \"1\":\n",
    "            c = c + 1\n",
    "            d = (d * a) % n\n",
    "    return d\n",
    "\n",
    "def fermat_test(n):\n",
    "    if n <= 2:\n",
    "        return \"n must be greater than 2\"\n",
    "    elif modular_exponentiation(2, n - 1, n) != 1:\n",
    "        return \"{0} is composite\".format(n)\n",
    "    else:\n",
    "        return \"{0} is either prime or base-2 pseudoprime\".format(n)\n",
    "    \n",
    "def witness(a, n):\n",
    "    t, u = 0, n - 1\n",
    "    while u % 2 == 0:\n",
    "        u >>= 1\n",
    "        t += 1\n",
    "    assert((2 ** t) * u == n - 1)\n",
    "    x = modular_exponentiation(a, u, n)\n",
    "    for _ in range(t):\n",
    "        x_prev = x\n",
    "        x = (x_prev ** 2) % n\n",
    "        if x == 1 and x_prev != 1 and x_prev != n - 1:\n",
    "            return True\n",
    "    if x != 1:\n",
    "        return True\n",
    "    return False\n",
    "\n",
    "def miller_rabin(n, s):\n",
    "    for _ in range(s):\n",
    "        a = random.randrange(1, n - 1)\n",
    "        if witness(a, n):\n",
    "            return \"{0} is composite\".format(n)\n",
    "    return \"{0} is almost surely prime\".format(n)"
   ]
  },
  {
   "cell_type": "code",
   "execution_count": 24,
   "metadata": {},
   "outputs": [],
   "source": [
    "nums = []\n",
    "for _ in range(20):\n",
    "    nums.append(random.getrandbits(256))"
   ]
  },
  {
   "cell_type": "code",
   "execution_count": 25,
   "metadata": {},
   "outputs": [
    {
     "name": "stdout",
     "output_type": "stream",
     "text": [
      "58450797840606790872341082755248406809730461671083441480539551401678468752994 is composite\n",
      "110951702909489252471946257678587883515630093962573230299083345961463789311 is composite\n",
      "89964869978701702493129392051161499498607381603882394852787954157146909906486 is composite\n",
      "57001970236814253618511663292629720317128903072993950938295334500670108942443 is composite\n",
      "75289003993295917842828397894127342145056665413503448532176957969627976039564 is composite\n",
      "18340426520136051983062753056926156636278823164698461190137262919284347877565 is composite\n",
      "27061251727457065492188856792858285528891605471507843829372154466150190934397 is composite\n",
      "51506408897939012125424845935596529685143432639861346326058446663561934368826 is composite\n",
      "5667843985465647483214357651474086085290077998910114596266362475506020301432 is composite\n",
      "1502044336137460856915180000803827886785906615150847132022335344605491143605 is composite\n",
      "35211083642683647344567097947667397145328717952031063894924813027833322811540 is composite\n",
      "97901999319605757012274816527250337149798683128696817040246249999365899546112 is composite\n",
      "5234922246910298092153647114445739289064634249296980776739368282305864027971 is composite\n",
      "31608541829202601442544575818365731415544177388844533375568629921891083180134 is composite\n",
      "108980954477947832412867135998427391212901511139301743083331399837036144530849 is either prime or base-2 pseudoprime\n",
      "25421218866222396402367293181394208198535506879044086457688720433029780574751 is composite\n",
      "22666647045262001883184706287626769360352294481437946934199879737801734219977 is composite\n",
      "37584768056642895643054658328548722096833144629869465123412166223529227664400 is composite\n",
      "76011403822984859131171892524774914839204625165582652329940075165043707497025 is composite\n",
      "69221914302046750802807078938738621248827581763304948527735526229624180650711 is composite\n"
     ]
    }
   ],
   "source": [
    "for n in nums:\n",
    "    print(fermat_test(n))"
   ]
  },
  {
   "cell_type": "code",
   "execution_count": 26,
   "metadata": {},
   "outputs": [
    {
     "name": "stdout",
     "output_type": "stream",
     "text": [
      "58450797840606790872341082755248406809730461671083441480539551401678468752994 is composite\n",
      "110951702909489252471946257678587883515630093962573230299083345961463789311 is composite\n",
      "89964869978701702493129392051161499498607381603882394852787954157146909906486 is composite\n",
      "57001970236814253618511663292629720317128903072993950938295334500670108942443 is composite\n",
      "75289003993295917842828397894127342145056665413503448532176957969627976039564 is composite\n",
      "18340426520136051983062753056926156636278823164698461190137262919284347877565 is composite\n",
      "27061251727457065492188856792858285528891605471507843829372154466150190934397 is composite\n",
      "51506408897939012125424845935596529685143432639861346326058446663561934368826 is composite\n",
      "5667843985465647483214357651474086085290077998910114596266362475506020301432 is composite\n",
      "1502044336137460856915180000803827886785906615150847132022335344605491143605 is composite\n",
      "35211083642683647344567097947667397145328717952031063894924813027833322811540 is composite\n",
      "97901999319605757012274816527250337149798683128696817040246249999365899546112 is composite\n",
      "5234922246910298092153647114445739289064634249296980776739368282305864027971 is composite\n",
      "31608541829202601442544575818365731415544177388844533375568629921891083180134 is composite\n",
      "108980954477947832412867135998427391212901511139301743083331399837036144530849 is almost surely prime\n",
      "25421218866222396402367293181394208198535506879044086457688720433029780574751 is composite\n",
      "22666647045262001883184706287626769360352294481437946934199879737801734219977 is composite\n",
      "37584768056642895643054658328548722096833144629869465123412166223529227664400 is composite\n",
      "76011403822984859131171892524774914839204625165582652329940075165043707497025 is composite\n",
      "69221914302046750802807078938738621248827581763304948527735526229624180650711 is composite\n"
     ]
    }
   ],
   "source": [
    "for n in nums:\n",
    "    print(miller_rabin(n, 1000))"
   ]
  },
  {
   "cell_type": "code",
   "execution_count": 28,
   "metadata": {},
   "outputs": [
    {
     "name": "stdout",
     "output_type": "stream",
     "text": [
      "561 is either prime or base-2 pseudoprime\n",
      "561 is composite\n"
     ]
    }
   ],
   "source": [
    "carmichael_number = 561\n",
    "print(fermat_test(carmichael_number))\n",
    "print(miller_rabin(carmichael_number, 1000))"
   ]
  }
 ],
 "metadata": {
  "kernelspec": {
   "display_name": "Python 3",
   "language": "python",
   "name": "python3"
  },
  "language_info": {
   "codemirror_mode": {
    "name": "ipython",
    "version": 3
   },
   "file_extension": ".py",
   "mimetype": "text/x-python",
   "name": "python",
   "nbconvert_exporter": "python",
   "pygments_lexer": "ipython3",
   "version": "3.7.4"
  }
 },
 "nbformat": 4,
 "nbformat_minor": 2
}

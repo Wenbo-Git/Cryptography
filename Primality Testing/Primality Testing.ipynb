{
 "cells": [
  {
   "cell_type": "code",
   "execution_count": 1,
   "metadata": {},
   "outputs": [],
   "source": [
    "import random"
   ]
  },
  {
   "cell_type": "code",
   "execution_count": 2,
   "metadata": {},
   "outputs": [],
   "source": [
    "def modular_exponentiation(a, b, n):\n",
    "    c = 0\n",
    "    d = 1\n",
    "    b_binary = \"{0:b}\".format(b)\n",
    "    for i in range(0, len(b_binary)):\n",
    "        c = 2 * c\n",
    "        d = (d * d) % n\n",
    "        if b_binary[i] == \"1\":\n",
    "            c = c + 1\n",
    "            d = (d * a) % n\n",
    "    return d"
   ]
  },
  {
   "cell_type": "code",
   "execution_count": 3,
   "metadata": {},
   "outputs": [],
   "source": [
    "def pseudoprime(n):\n",
    "    if n <= 2:\n",
    "        return \"n must be greater than 2\"\n",
    "    elif modular_exponentiation(2, n - 1, n) != 1:\n",
    "        return \"{0} is composite\".format(n)\n",
    "    else:\n",
    "        return \"{0} is either prime or base-2 pseudoprime\".format(n)"
   ]
  },
  {
   "cell_type": "code",
   "execution_count": 14,
   "metadata": {},
   "outputs": [
    {
     "name": "stdout",
     "output_type": "stream",
     "text": [
      "35195456 is composite\n",
      "73063933 is either prime or base-2 pseudoprime\n",
      "52176646 is composite\n",
      "89040689 is composite\n",
      "21119005 is composite\n",
      "66521310 is composite\n",
      "96022090 is composite\n",
      "37756327 is composite\n",
      "11678631 is composite\n",
      "13090347 is composite\n",
      "80432157 is composite\n",
      "57402383 is either prime or base-2 pseudoprime\n",
      "30012387 is composite\n",
      "98363300 is composite\n",
      "54818272 is composite\n",
      "7038443 is composite\n",
      "10544527 is composite\n",
      "31240933 is either prime or base-2 pseudoprime\n",
      "77407810 is composite\n",
      "84563075 is composite\n"
     ]
    }
   ],
   "source": [
    "for _ in range(20):\n",
    "    n = random.randrange(3, 100000000)\n",
    "    print(pseudoprime(n))"
   ]
  }
 ],
 "metadata": {
  "kernelspec": {
   "display_name": "Python 3",
   "language": "python",
   "name": "python3"
  },
  "language_info": {
   "codemirror_mode": {
    "name": "ipython",
    "version": 3
   },
   "file_extension": ".py",
   "mimetype": "text/x-python",
   "name": "python",
   "nbconvert_exporter": "python",
   "pygments_lexer": "ipython3",
   "version": "3.7.4"
  }
 },
 "nbformat": 4,
 "nbformat_minor": 2
}

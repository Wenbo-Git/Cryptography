{
 "cells": [
  {
   "cell_type": "code",
   "execution_count": 48,
   "metadata": {},
   "outputs": [],
   "source": [
    "import random"
   ]
  },
  {
   "cell_type": "code",
   "execution_count": 49,
   "metadata": {},
   "outputs": [],
   "source": [
    "def modular_exponentiation(a, b, n):\n",
    "    c = 0\n",
    "    d = 1\n",
    "    b_binary = \"{0:b}\".format(b)\n",
    "    for i in range(0, len(b_binary)):\n",
    "        c = 2 * c\n",
    "        d = (d * d) % n\n",
    "        if b_binary[i] == \"1\":\n",
    "            c = c + 1\n",
    "            d = (d * a) % n\n",
    "    return d"
   ]
  },
  {
   "cell_type": "code",
   "execution_count": 72,
   "metadata": {},
   "outputs": [],
   "source": [
    "def pseudoprime(n):\n",
    "    if n <= 2:\n",
    "        return \"n must be greater than 2\"\n",
    "    elif modular_exponentiation(2, n - 1, n) != 1:\n",
    "        return \"{0} is composite\".format(n)\n",
    "    else:\n",
    "        return \"{0} is either prime or base-2 pseudoprime\".format(n)"
   ]
  },
  {
   "cell_type": "code",
   "execution_count": 111,
   "metadata": {},
   "outputs": [],
   "source": [
    "def witness(a, n):\n",
    "    t, u = 0, n - 1\n",
    "    while u % 2 == 0:\n",
    "        u >>= 1\n",
    "        t += 1\n",
    "    assert((2 ** t) * u == n - 1)\n",
    "    x = modular_exponentiation(a, u, n)\n",
    "    for _ in range(t):\n",
    "        x_prev = x\n",
    "        x = (x_prev ** 2) % n\n",
    "        if x == 1 and x_prev != 1 and x_prev != n - 1:\n",
    "            return True\n",
    "    if x != 1:\n",
    "        return True\n",
    "    return False\n",
    "\n",
    "def miller_rabin(n, s):\n",
    "    for _ in range(s):\n",
    "        a = random.randrange(1, n - 1)\n",
    "        if witness(a, n):\n",
    "            return \"{0} is composite\".format(n)\n",
    "    return \"{0} is almost surely prime\".format(n)"
   ]
  },
  {
   "cell_type": "code",
   "execution_count": 116,
   "metadata": {},
   "outputs": [],
   "source": [
    "nums = []\n",
    "for _ in range(20):\n",
    "    nums.append(random.randrange(3, 100000000000000000))"
   ]
  },
  {
   "cell_type": "code",
   "execution_count": 117,
   "metadata": {},
   "outputs": [
    {
     "name": "stdout",
     "output_type": "stream",
     "text": [
      "85716102739025333 is either prime or base-2 pseudoprime\n",
      "33974458402319312 is composite\n",
      "60550324838340147 is composite\n",
      "76749982971999299 is either prime or base-2 pseudoprime\n",
      "39215527606486798 is composite\n",
      "83555922843200967 is composite\n",
      "32971263741539005 is composite\n",
      "69825133508659207 is composite\n",
      "60057239398631081 is either prime or base-2 pseudoprime\n",
      "21348743610431507 is composite\n",
      "78201509135470540 is composite\n",
      "19532985906958691 is composite\n",
      "26631306004227423 is composite\n",
      "41126182223114220 is composite\n",
      "21392341676696284 is composite\n",
      "60134648537810699 is either prime or base-2 pseudoprime\n",
      "42994048381810122 is composite\n",
      "93264790253304042 is composite\n",
      "95237030044572858 is composite\n",
      "71243808244388061 is composite\n"
     ]
    }
   ],
   "source": [
    "for n in nums:\n",
    "    print(pseudoprime(n))"
   ]
  },
  {
   "cell_type": "code",
   "execution_count": 118,
   "metadata": {},
   "outputs": [
    {
     "name": "stdout",
     "output_type": "stream",
     "text": [
      "85716102739025333 is almost surely prime\n",
      "33974458402319312 is composite\n",
      "60550324838340147 is composite\n",
      "76749982971999299 is almost surely prime\n",
      "39215527606486798 is composite\n",
      "83555922843200967 is composite\n",
      "32971263741539005 is composite\n",
      "69825133508659207 is composite\n",
      "60057239398631081 is almost surely prime\n",
      "21348743610431507 is composite\n",
      "78201509135470540 is composite\n",
      "19532985906958691 is composite\n",
      "26631306004227423 is composite\n",
      "41126182223114220 is composite\n",
      "21392341676696284 is composite\n",
      "60134648537810699 is almost surely prime\n",
      "42994048381810122 is composite\n",
      "93264790253304042 is composite\n",
      "95237030044572858 is composite\n",
      "71243808244388061 is composite\n"
     ]
    }
   ],
   "source": [
    "for n in nums:\n",
    "    print(miller_rabin(n, 1000))"
   ]
  },
  {
   "cell_type": "code",
   "execution_count": 120,
   "metadata": {},
   "outputs": [
    {
     "name": "stdout",
     "output_type": "stream",
     "text": [
      "561 is either prime or base-2 pseudoprime\n",
      "561 is composite\n"
     ]
    }
   ],
   "source": [
    "carmichael_number = 561\n",
    "print(pseudoprime(carmichael_number))\n",
    "print(miller_rabin(carmichael_number, 1000))"
   ]
  }
 ],
 "metadata": {
  "kernelspec": {
   "display_name": "Python 3",
   "language": "python",
   "name": "python3"
  },
  "language_info": {
   "codemirror_mode": {
    "name": "ipython",
    "version": 3
   },
   "file_extension": ".py",
   "mimetype": "text/x-python",
   "name": "python",
   "nbconvert_exporter": "python",
   "pygments_lexer": "ipython3",
   "version": "3.7.4"
  }
 },
 "nbformat": 4,
 "nbformat_minor": 2
}

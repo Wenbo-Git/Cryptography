{
 "cells": [
  {
   "cell_type": "code",
   "execution_count": 1,
   "metadata": {},
   "outputs": [],
   "source": [
    "import random\n",
    "\n",
    "def modular_exponentiation(a, b, n):\n",
    "    c = 0\n",
    "    d = 1\n",
    "    b_binary = \"{0:b}\".format(b)\n",
    "    for i in range(0, len(b_binary)):\n",
    "        c = 2 * c\n",
    "        d = (d * d) % n\n",
    "        if b_binary[i] == \"1\":\n",
    "            c = c + 1\n",
    "            d = (d * a) % n\n",
    "    return d\n",
    "\n",
    "def pseudoprime(n):\n",
    "    if n <= 2:\n",
    "        return \"n must be greater than 2\"\n",
    "    elif modular_exponentiation(2, n - 1, n) != 1:\n",
    "        return \"{0} is composite\".format(n)\n",
    "    else:\n",
    "        return \"{0} is either prime or base-2 pseudoprime\".format(n)\n",
    "    \n",
    "def witness(a, n):\n",
    "    t, u = 0, n - 1\n",
    "    while u % 2 == 0:\n",
    "        u >>= 1\n",
    "        t += 1\n",
    "    assert((2 ** t) * u == n - 1)\n",
    "    x = modular_exponentiation(a, u, n)\n",
    "    for _ in range(t):\n",
    "        x_prev = x\n",
    "        x = (x_prev ** 2) % n\n",
    "        if x == 1 and x_prev != 1 and x_prev != n - 1:\n",
    "            return True\n",
    "    if x != 1:\n",
    "        return True\n",
    "    return False\n",
    "\n",
    "def miller_rabin(n, s):\n",
    "    for _ in range(s):\n",
    "        a = random.randrange(1, n - 1)\n",
    "        if witness(a, n):\n",
    "            return \"{0} is composite\".format(n)\n",
    "    return \"{0} is almost surely prime\".format(n)"
   ]
  },
  {
   "cell_type": "code",
   "execution_count": 2,
   "metadata": {},
   "outputs": [],
   "source": [
    "nums = []\n",
    "for _ in range(20):\n",
    "    nums.append(random.randrange(3, 100000000000000000))"
   ]
  },
  {
   "cell_type": "code",
   "execution_count": 3,
   "metadata": {},
   "outputs": [
    {
     "name": "stdout",
     "output_type": "stream",
     "text": [
      "24938007148114446 is composite\n",
      "19544733477638051 is composite\n",
      "79457382028667977 is composite\n",
      "62226881376041665 is composite\n",
      "28239584430375362 is composite\n",
      "41300516574289217 is composite\n",
      "98090948780975347 is composite\n",
      "23192974286106961 is composite\n",
      "81882639715441198 is composite\n",
      "55095990959525368 is composite\n",
      "13373264125643791 is either prime or base-2 pseudoprime\n",
      "35399401304415239 is composite\n",
      "52502734812763034 is composite\n",
      "22804658179200609 is composite\n",
      "12943725982600454 is composite\n",
      "78857067095803505 is composite\n",
      "18214494739464977 is either prime or base-2 pseudoprime\n",
      "83681889014332143 is composite\n",
      "60738670744608094 is composite\n",
      "49304994680824608 is composite\n"
     ]
    }
   ],
   "source": [
    "for n in nums:\n",
    "    print(pseudoprime(n))"
   ]
  },
  {
   "cell_type": "code",
   "execution_count": 4,
   "metadata": {},
   "outputs": [
    {
     "name": "stdout",
     "output_type": "stream",
     "text": [
      "24938007148114446 is composite\n",
      "19544733477638051 is composite\n",
      "79457382028667977 is composite\n",
      "62226881376041665 is composite\n",
      "28239584430375362 is composite\n",
      "41300516574289217 is composite\n",
      "98090948780975347 is composite\n",
      "23192974286106961 is composite\n",
      "81882639715441198 is composite\n",
      "55095990959525368 is composite\n",
      "13373264125643791 is almost surely prime\n",
      "35399401304415239 is composite\n",
      "52502734812763034 is composite\n",
      "22804658179200609 is composite\n",
      "12943725982600454 is composite\n",
      "78857067095803505 is composite\n",
      "18214494739464977 is almost surely prime\n",
      "83681889014332143 is composite\n",
      "60738670744608094 is composite\n",
      "49304994680824608 is composite\n"
     ]
    }
   ],
   "source": [
    "for n in nums:\n",
    "    print(miller_rabin(n, 1000))"
   ]
  },
  {
   "cell_type": "code",
   "execution_count": 5,
   "metadata": {},
   "outputs": [
    {
     "name": "stdout",
     "output_type": "stream",
     "text": [
      "561 is either prime or base-2 pseudoprime\n",
      "561 is composite\n"
     ]
    }
   ],
   "source": [
    "carmichael_number = 561\n",
    "print(pseudoprime(carmichael_number))\n",
    "print(miller_rabin(carmichael_number, 1000))"
   ]
  }
 ],
 "metadata": {
  "kernelspec": {
   "display_name": "Python 3",
   "language": "python",
   "name": "python3"
  },
  "language_info": {
   "codemirror_mode": {
    "name": "ipython",
    "version": 3
   },
   "file_extension": ".py",
   "mimetype": "text/x-python",
   "name": "python",
   "nbconvert_exporter": "python",
   "pygments_lexer": "ipython3",
   "version": "3.7.4"
  }
 },
 "nbformat": 4,
 "nbformat_minor": 2
}

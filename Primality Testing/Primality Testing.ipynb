{
 "cells": [
  {
   "cell_type": "code",
   "execution_count": 48,
   "metadata": {},
   "outputs": [],
   "source": [
    "import random"
   ]
  },
  {
   "cell_type": "code",
   "execution_count": 49,
   "metadata": {},
   "outputs": [],
   "source": [
    "def modular_exponentiation(a, b, n):\n",
    "    c = 0\n",
    "    d = 1\n",
    "    b_binary = \"{0:b}\".format(b)\n",
    "    for i in range(0, len(b_binary)):\n",
    "        c = 2 * c\n",
    "        d = (d * d) % n\n",
    "        if b_binary[i] == \"1\":\n",
    "            c = c + 1\n",
    "            d = (d * a) % n\n",
    "    return d"
   ]
  },
  {
   "cell_type": "code",
   "execution_count": 54,
   "metadata": {},
   "outputs": [],
   "source": [
    "def pseudoprime(n, use_mod_expo = False):\n",
    "    if n <= 2:\n",
    "        return \"n must be greater than 2\"\n",
    "    elif use_mod_expo is True:\n",
    "        if modular_exponentiation(2, n - 1, n) != 1:\n",
    "            return \"{0} is composite\".format(n)\n",
    "        else:\n",
    "            return \"{0} is either prime or base-2 pseudoprime\".format(n)\n",
    "    else:\n",
    "        if pow(2, n - 1) % n != 1:\n",
    "            return \"{0} is composite\".format(n)\n",
    "        else:\n",
    "            return \"{0} is either prime or base-2 pseudoprime\".format(n)"
   ]
  },
  {
   "cell_type": "code",
   "execution_count": 62,
   "metadata": {},
   "outputs": [],
   "source": [
    "nums = []\n",
    "for _ in range(20):\n",
    "    n = random.randrange(3, 100000000)\n",
    "    nums.append(n)"
   ]
  },
  {
   "cell_type": "code",
   "execution_count": 63,
   "metadata": {},
   "outputs": [
    {
     "name": "stdout",
     "output_type": "stream",
     "text": [
      "56830335 is composite\n",
      "52957069 is composite\n",
      "13351374 is composite\n",
      "21339091 is either prime or base-2 pseudoprime\n",
      "49515200 is composite\n",
      "77343397 is either prime or base-2 pseudoprime\n",
      "94311698 is composite\n",
      "58496977 is composite\n",
      "65737839 is composite\n",
      "7719160 is composite\n",
      "1580751 is composite\n",
      "31183236 is composite\n",
      "77955798 is composite\n",
      "8404536 is composite\n",
      "6088277 is composite\n",
      "17478337 is composite\n",
      "62388963 is composite\n",
      "60819004 is composite\n",
      "49598538 is composite\n",
      "81200687 is composite\n",
      "total time = 17.554643154144287\n"
     ]
    }
   ],
   "source": [
    "import time\n",
    "start = time.time()\n",
    "for num in nums:\n",
    "    print(pseudoprime(num))\n",
    "end = time.time()\n",
    "print(\"total time = {0}\".format(end - start))"
   ]
  },
  {
   "cell_type": "code",
   "execution_count": 64,
   "metadata": {},
   "outputs": [
    {
     "name": "stdout",
     "output_type": "stream",
     "text": [
      "56830335 is composite\n",
      "52957069 is composite\n",
      "13351374 is composite\n",
      "21339091 is either prime or base-2 pseudoprime\n",
      "49515200 is composite\n",
      "77343397 is either prime or base-2 pseudoprime\n",
      "94311698 is composite\n",
      "58496977 is composite\n",
      "65737839 is composite\n",
      "7719160 is composite\n",
      "1580751 is composite\n",
      "31183236 is composite\n",
      "77955798 is composite\n",
      "8404536 is composite\n",
      "6088277 is composite\n",
      "17478337 is composite\n",
      "62388963 is composite\n",
      "60819004 is composite\n",
      "49598538 is composite\n",
      "81200687 is composite\n",
      "total time = 0.00099945068359375\n"
     ]
    }
   ],
   "source": [
    "start = time.time()\n",
    "for num in nums:\n",
    "    print(pseudoprime(num, True))\n",
    "end = time.time()\n",
    "print(\"total time = {0}\".format(end - start))"
   ]
  }
 ],
 "metadata": {
  "kernelspec": {
   "display_name": "Python 3",
   "language": "python",
   "name": "python3"
  },
  "language_info": {
   "codemirror_mode": {
    "name": "ipython",
    "version": 3
   },
   "file_extension": ".py",
   "mimetype": "text/x-python",
   "name": "python",
   "nbconvert_exporter": "python",
   "pygments_lexer": "ipython3",
   "version": "3.7.4"
  }
 },
 "nbformat": 4,
 "nbformat_minor": 2
}

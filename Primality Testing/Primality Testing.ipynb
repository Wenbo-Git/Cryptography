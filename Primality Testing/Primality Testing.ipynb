{
 "cells": [
  {
   "cell_type": "code",
   "execution_count": 1,
   "metadata": {},
   "outputs": [],
   "source": [
    "import random\n",
    "\n",
    "def modular_exponentiation(a, b, n):\n",
    "    c = 0\n",
    "    d = 1\n",
    "    b_binary = \"{0:b}\".format(b)\n",
    "    for i in range(0, len(b_binary)):\n",
    "        c = 2 * c\n",
    "        d = (d * d) % n\n",
    "        if b_binary[i] == \"1\":\n",
    "            c = c + 1\n",
    "            d = (d * a) % n\n",
    "    return d\n",
    "\n",
    "def pseudoprime(n):\n",
    "    if n <= 2:\n",
    "        return \"n must be greater than 2\"\n",
    "    elif modular_exponentiation(2, n - 1, n) != 1:\n",
    "        return \"{0} is composite\".format(n)\n",
    "    else:\n",
    "        return \"{0} is either prime or base-2 pseudoprime\".format(n)\n",
    "    \n",
    "def witness(a, n):\n",
    "    t, u = 0, n - 1\n",
    "    while u % 2 == 0:\n",
    "        u >>= 1\n",
    "        t += 1\n",
    "    assert((2 ** t) * u == n - 1)\n",
    "    x = modular_exponentiation(a, u, n)\n",
    "    for _ in range(t):\n",
    "        x_prev = x\n",
    "        x = (x_prev ** 2) % n\n",
    "        if x == 1 and x_prev != 1 and x_prev != n - 1:\n",
    "            return True\n",
    "    if x != 1:\n",
    "        return True\n",
    "    return False\n",
    "\n",
    "def miller_rabin(n, s):\n",
    "    for _ in range(s):\n",
    "        a = random.randrange(1, n - 1)\n",
    "        if witness(a, n):\n",
    "            return \"{0} is composite\".format(n)\n",
    "    return \"{0} is almost surely prime\".format(n)"
   ]
  },
  {
   "cell_type": "code",
   "execution_count": 29,
   "metadata": {},
   "outputs": [],
   "source": [
    "nums = []\n",
    "for _ in range(20):\n",
    "    nums.append(random.randrange(3, 100000000000000000))"
   ]
  },
  {
   "cell_type": "code",
   "execution_count": 30,
   "metadata": {},
   "outputs": [
    {
     "name": "stdout",
     "output_type": "stream",
     "text": [
      "65706317206204044 is composite\n",
      "57291290839145774 is composite\n",
      "70029730686118601 is either prime or base-2 pseudoprime\n",
      "38264753215558854 is composite\n",
      "66827750766425602 is composite\n",
      "52338621290520186 is composite\n",
      "48629374274380842 is composite\n",
      "42859778322581890 is composite\n",
      "59976744663486107 is either prime or base-2 pseudoprime\n",
      "72861195977159111 is composite\n",
      "88529899977398496 is composite\n",
      "77290098259525049 is composite\n",
      "89777794547625905 is composite\n",
      "54534357334576746 is composite\n",
      "14708923903293735 is composite\n",
      "31508664265266619 is either prime or base-2 pseudoprime\n",
      "7130191015169725 is composite\n",
      "27047246995620632 is composite\n",
      "82726449520326070 is composite\n",
      "29915861951537366 is composite\n"
     ]
    }
   ],
   "source": [
    "for n in nums:\n",
    "    print(pseudoprime(n))"
   ]
  },
  {
   "cell_type": "code",
   "execution_count": 31,
   "metadata": {},
   "outputs": [
    {
     "name": "stdout",
     "output_type": "stream",
     "text": [
      "65706317206204044 is composite\n",
      "57291290839145774 is composite\n",
      "70029730686118601 is almost surely prime\n",
      "38264753215558854 is composite\n",
      "66827750766425602 is composite\n",
      "52338621290520186 is composite\n",
      "48629374274380842 is composite\n",
      "42859778322581890 is composite\n",
      "59976744663486107 is almost surely prime\n",
      "72861195977159111 is composite\n",
      "88529899977398496 is composite\n",
      "77290098259525049 is composite\n",
      "89777794547625905 is composite\n",
      "54534357334576746 is composite\n",
      "14708923903293735 is composite\n",
      "31508664265266619 is almost surely prime\n",
      "7130191015169725 is composite\n",
      "27047246995620632 is composite\n",
      "82726449520326070 is composite\n",
      "29915861951537366 is composite\n"
     ]
    }
   ],
   "source": [
    "for n in nums:\n",
    "    print(miller_rabin(n, 1000))"
   ]
  },
  {
   "cell_type": "code",
   "execution_count": 32,
   "metadata": {},
   "outputs": [
    {
     "name": "stdout",
     "output_type": "stream",
     "text": [
      "561 is either prime or base-2 pseudoprime\n",
      "561 is composite\n"
     ]
    }
   ],
   "source": [
    "carmichael_number = 561\n",
    "print(pseudoprime(carmichael_number))\n",
    "print(miller_rabin(carmichael_number, 1000))"
   ]
  }
 ],
 "metadata": {
  "kernelspec": {
   "display_name": "Python 3",
   "language": "python",
   "name": "python3"
  },
  "language_info": {
   "codemirror_mode": {
    "name": "ipython",
    "version": 3
   },
   "file_extension": ".py",
   "mimetype": "text/x-python",
   "name": "python",
   "nbconvert_exporter": "python",
   "pygments_lexer": "ipython3",
   "version": "3.7.4"
  }
 },
 "nbformat": 4,
 "nbformat_minor": 2
}

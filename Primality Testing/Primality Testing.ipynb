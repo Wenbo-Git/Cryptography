{
 "cells": [
  {
   "cell_type": "code",
   "execution_count": 1,
   "metadata": {},
   "outputs": [],
   "source": [
    "import random"
   ]
  },
  {
   "cell_type": "code",
   "execution_count": 2,
   "metadata": {},
   "outputs": [],
   "source": [
    "def modular_exponentiation(a, b, n):\n",
    "    c = 0\n",
    "    d = 1\n",
    "    b_binary = \"{0:b}\".format(b)\n",
    "    for i in range(0, len(b_binary)):\n",
    "        c = 2 * c\n",
    "        d = (d * d) % n\n",
    "        if b_binary[i] == \"1\":\n",
    "            c = c + 1\n",
    "            d = (d * a) % n\n",
    "    return d"
   ]
  },
  {
   "cell_type": "code",
   "execution_count": 3,
   "metadata": {},
   "outputs": [],
   "source": [
    "def pseudoprime(n):\n",
    "    if n <= 2:\n",
    "        return \"n must be greater than 2\"\n",
    "    elif modular_exponentiation(2, n - 1, n) != 1:\n",
    "        return \"{0} is composite\".format(n)\n",
    "    else:\n",
    "        return \"{0} is either prime or base-2 pseudoprime\".format(n)"
   ]
  },
  {
   "cell_type": "code",
   "execution_count": 19,
   "metadata": {},
   "outputs": [
    {
     "name": "stdout",
     "output_type": "stream",
     "text": [
      "335446391064703 is either prime or base-2 pseudoprime\n",
      "818815024019515 is composite\n",
      "378005671499577 is composite\n",
      "829243392956212 is composite\n",
      "237924812141501 is either prime or base-2 pseudoprime\n",
      "416359333208305 is composite\n",
      "323126741383432 is composite\n",
      "508959696076231 is composite\n",
      "228338950461822 is composite\n",
      "538031194491599 is composite\n",
      "1756695431880 is composite\n",
      "159269643792545 is composite\n",
      "564974575699443 is composite\n",
      "194489456200528 is composite\n",
      "491544219031767 is composite\n",
      "634723817534910 is composite\n",
      "188750440038698 is composite\n",
      "928268328776187 is composite\n",
      "746041763138491 is composite\n",
      "80805993301024 is composite\n"
     ]
    }
   ],
   "source": [
    "for _ in range(20):\n",
    "    n = random.randrange(3, 1000000000000000)\n",
    "    print(pseudoprime(n))"
   ]
  }
 ],
 "metadata": {
  "kernelspec": {
   "display_name": "Python 3",
   "language": "python",
   "name": "python3"
  },
  "language_info": {
   "codemirror_mode": {
    "name": "ipython",
    "version": 3
   },
   "file_extension": ".py",
   "mimetype": "text/x-python",
   "name": "python",
   "nbconvert_exporter": "python",
   "pygments_lexer": "ipython3",
   "version": "3.7.4"
  }
 },
 "nbformat": 4,
 "nbformat_minor": 2
}

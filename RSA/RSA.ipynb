{
 "cells": [
  {
   "cell_type": "code",
   "execution_count": 1,
   "metadata": {},
   "outputs": [],
   "source": [
    "import random\n",
    "import binascii\n",
    "\n",
    "MILLER_RABIN_TRIAL_NUM = 1000\n",
    "\n",
    "def gcd(a, b):\n",
    "    return a if b == 0 else gcd(b, a % b)\n",
    "\n",
    "def egcd(a, b):\n",
    "    if b == 0:\n",
    "        return a, 1, 0\n",
    "    else:\n",
    "        d, x, y = egcd(b, a % b)\n",
    "        return d, y, x - (a // b) * y\n",
    "    \n",
    "def modular_linear_equation_solver(a, b, n):\n",
    "    ret = []\n",
    "    d, x, y = egcd(a, n)\n",
    "    if b % d == 0:\n",
    "        x_0 = (x * (b / d)) % n\n",
    "        for i in range(0, d):\n",
    "            ret.append((x_0 + i * (n / d)) % n)\n",
    "    return ret\n",
    "\n",
    "def mul_inv(a, n):\n",
    "    d, x, y = egcd(a, n)\n",
    "    if d == 1:\n",
    "        return x % n\n",
    "    else:\n",
    "        raise Exception('gcd(a, n) != 1')\n",
    "        \n",
    "def crt(list_a, list_n):\n",
    "    a, p = 0, 1\n",
    "    for n in list_n:\n",
    "        p = p * n\n",
    "    for i in range(len(list_a)):\n",
    "        a_i, n_i = list_a[i], list_n[i]\n",
    "        m_i = p / n_i\n",
    "        a += (a_i * m_i * mul_inv(m_i, n_i))\n",
    "    return a % p\n",
    "\n",
    "def modular_exponentiation(a, b, n):\n",
    "    c = 0\n",
    "    d = 1\n",
    "    b_binary = \"{0:b}\".format(b)\n",
    "    for i in range(0, len(b_binary)):\n",
    "        c = 2 * c\n",
    "        d = (d * d) % n\n",
    "        if b_binary[i] == \"1\":\n",
    "            c = c + 1\n",
    "            d = (d * a) % n\n",
    "    return d\n",
    "\n",
    "def witness(a, n):\n",
    "    t, u = 0, n - 1\n",
    "    while u % 2 == 0:\n",
    "        u >>= 1\n",
    "        t += 1\n",
    "    assert((2 ** t) * u == n - 1)\n",
    "    x = modular_exponentiation(a, u, n)\n",
    "    for _ in range(t):\n",
    "        x_prev = x\n",
    "        x = (x_prev ** 2) % n\n",
    "        if x == 1 and x_prev != 1 and x_prev != n - 1:\n",
    "            return True\n",
    "    if x != 1:\n",
    "        return True\n",
    "    return False\n",
    "\n",
    "def miller_rabin(n, s):\n",
    "    for _ in range(s):\n",
    "        a = random.randrange(1, n - 1)\n",
    "        if witness(a, n):\n",
    "            return \"composite\"\n",
    "    return \"prime\"\n",
    "\n",
    "def generate_primes(integer_bits):\n",
    "    primes = []\n",
    "    while len(primes) < 2:\n",
    "        n = random.getrandbits(integer_bits)\n",
    "        if miller_rabin(n, MILLER_RABIN_TRIAL_NUM) == \"prime\":\n",
    "            primes.append(n)\n",
    "    return primes[0], primes[1]\n",
    "\n",
    "def generate_keys(integer_bits):\n",
    "    p, q = generate_primes(integer_bits)\n",
    "    n = p * q\n",
    "    phi_n = (p - 1) * (q - 1)\n",
    "    e = random.randrange(1, phi_n, 2)\n",
    "    while gcd(e, phi_n) != 1:\n",
    "        e = random.randrange(1, phi_n, 2)\n",
    "    d = mul_inv(e, phi_n)\n",
    "    P, S = (e, n), (d, n)\n",
    "    return P, S\n",
    "\n",
    "def encrypt(P, plain_text):\n",
    "    e, n = P\n",
    "    plain_integer = int(binascii.hexlify(plain_text.encode()), 16)\n",
    "    return modular_exponentiation(plain_integer, e, n)\n",
    "\n",
    "def decrypt(S, cipher_text):\n",
    "    d, n = S\n",
    "    decrypted_integer = modular_exponentiation(cipher_text, d, n)\n",
    "    return binascii.unhexlify(hex(decrypted_integer)[2:]).decode()"
   ]
  },
  {
   "cell_type": "code",
   "execution_count": 2,
   "metadata": {},
   "outputs": [],
   "source": [
    "P, S = generate_keys(1024)"
   ]
  },
  {
   "cell_type": "code",
   "execution_count": 3,
   "metadata": {},
   "outputs": [
    {
     "name": "stdout",
     "output_type": "stream",
     "text": [
      "public key = (0x1a84f31b54d81cc873dd8eefe66921400812918784c3f18e84c400d185b3136e0e6e2c27b3170654fc2882d2345d054d347932e6560cee92cde0d3e0edf92f4e70fb47c5d57d6e351628dc1ac33b956b517fdaa93d2dc2f908bcdd69e87c7b8951c55042dc2f74b1312a92ed1634705818231af978ea78d5ba0c684d149fcd07e67138b9e37b2124f731aa4492b801d5afcb765e0cd10cdb1e03d37e10a197eb1111326a7b4d74301f85071e7a486b2ceff4de1c6cdda4600bc99b04a2f58e1baf3a709623d1595b4608a34c88c6f163fc5f1d63cf6765ad8f6d8c02f277cab079310e959c32055c8cbf1ffb2315d86a9f337a4f1627025f5e684880ca7f62bf, 0x225f5d96fcdad2451cd2c89469deac035b5c9fd7d9d16ac9f340a9091762b8305bff773b7fb088cb576867a99455f3e267a5d6b491b1f67a6afbcdbf70246d1f701acab9ee47681fb894791f6f5764089413a359409e0701354c79b1fbc0117c8a9b578c68f7dc16a4e9ddcf26f9c6b213b3e44dbd9b1abbebb725301d54a07f9dfdc46d68e83c6b32a7108ae2eb3123d77c8a6b120765e021e7d42659518d7d317f802b349d2cab06e2fd36aacb261560c4e79479d40457bb3e6d2e6a2af42e38cbd6dc2e51420c317cfabe3540fa2a68e2c5a6049f691d710888aa0d06768f9f0289ae31decc2888f8eb27e71011ea8731455bc2bc4418ff7869bcbd1399ff)\n",
      "private key = (0x88167761eadcc7873cc9977dfcd132970c9e5c788a17ca8dd7cd3c35f02f337e566d2ad8669faccabc923b44f6d20bc02f3926d34aca209e77f82c94d56c1ec59f9a54d4fbfe322904d932fdaa448d1ee41c1d07e454663ae994ba2738633320ce0330a1311139cd985ad29824fc8fae68f59ecf475e5722450492535a857cc6ca756ca1de36a2d80e6767d452878c0c04ca32840b9357d78dc8b741e23c15a346e1e494b72f02186a955ca3808fa7c77fff2202e00e48aac362150a0886402d62174b8c3d12589500126d9256fd61f607fff6b5e572d182f92867317e73bac81bd0a703664ad8e8a65157897a07272d77ba29e48438b1061461071a381711f, 0x225f5d96fcdad2451cd2c89469deac035b5c9fd7d9d16ac9f340a9091762b8305bff773b7fb088cb576867a99455f3e267a5d6b491b1f67a6afbcdbf70246d1f701acab9ee47681fb894791f6f5764089413a359409e0701354c79b1fbc0117c8a9b578c68f7dc16a4e9ddcf26f9c6b213b3e44dbd9b1abbebb725301d54a07f9dfdc46d68e83c6b32a7108ae2eb3123d77c8a6b120765e021e7d42659518d7d317f802b349d2cab06e2fd36aacb261560c4e79479d40457bb3e6d2e6a2af42e38cbd6dc2e51420c317cfabe3540fa2a68e2c5a6049f691d710888aa0d06768f9f0289ae31decc2888f8eb27e71011ea8731455bc2bc4418ff7869bcbd1399ff)\n"
     ]
    }
   ],
   "source": [
    "print(\"public key = ({0}, {1})\".format(hex(P[0]), hex(P[1])))\n",
    "print(\"private key = ({0}, {1})\".format(hex(S[0]), hex(S[1])))"
   ]
  },
  {
   "cell_type": "code",
   "execution_count": 4,
   "metadata": {},
   "outputs": [
    {
     "name": "stdout",
     "output_type": "stream",
     "text": [
      "0x19e597e54ca3fd600dd1c68f213fd1dcf676a97aa2f8bb2cd89b8dd57d31f50c0e8c370ad4f819289f03ee9052f4ddbbd6c9bd51d8ddff861242f5195f4fd398c8c8ba26d979aaab4ae0662f9bd1660d0bdf31a9a63245f36aeb4fc9683cdec394b3cb7ec427cbf4e5a3f258f19a5e1c65405f5b11de3dfcaa56354e7ffb7f823f3555b2c264c7c894e4e85d4aeef6af271a7465cb48053b88d059ee7d8cc472881b89935763e3d013510c4b5a3eb80dc355972d86bbc0abb926d29177fcc2bfa7c52a64d301faf6eabfd3f402c1314c1fec0c03aa4d21c8e149bc7f1bc4fc453ae45c03656e59732bd1b02cc7bbcb1898c4582098c774b4680c21f03b94aa58\n"
     ]
    }
   ],
   "source": [
    "M = \"Hello World!\"\n",
    "cipher_text = encrypt(P, M)\n",
    "print(hex(cipher_text))"
   ]
  },
  {
   "cell_type": "code",
   "execution_count": 5,
   "metadata": {},
   "outputs": [
    {
     "name": "stdout",
     "output_type": "stream",
     "text": [
      "Hello World!\n"
     ]
    }
   ],
   "source": [
    "plain_text = decrypt(S, cipher_text)\n",
    "print(plain_text)"
   ]
  }
 ],
 "metadata": {
  "kernelspec": {
   "display_name": "Python 3",
   "language": "python",
   "name": "python3"
  },
  "language_info": {
   "codemirror_mode": {
    "name": "ipython",
    "version": 3
   },
   "file_extension": ".py",
   "mimetype": "text/x-python",
   "name": "python",
   "nbconvert_exporter": "python",
   "pygments_lexer": "ipython3",
   "version": "3.7.4"
  }
 },
 "nbformat": 4,
 "nbformat_minor": 2
}

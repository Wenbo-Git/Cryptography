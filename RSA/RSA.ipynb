{
 "cells": [
  {
   "cell_type": "code",
   "execution_count": 1,
   "metadata": {},
   "outputs": [],
   "source": [
    "def gcd(a, b):\n",
    "    return a if b == 0 else gcd(b, a % b)"
   ]
  },
  {
   "cell_type": "code",
   "execution_count": 2,
   "metadata": {},
   "outputs": [],
   "source": [
    "def egcd(a, b):\n",
    "    if b == 0:\n",
    "        return a, 1, 0\n",
    "    else:\n",
    "        d, x, y = egcd(b, a % b)\n",
    "        return d, y, x - (a // b) * y"
   ]
  },
  {
   "cell_type": "code",
   "execution_count": 3,
   "metadata": {},
   "outputs": [],
   "source": [
    "def modular_linear_equation_solver(a, b, n):\n",
    "    ret = []\n",
    "    d, x, y = egcd(a, n)\n",
    "    if b % d == 0:\n",
    "        x_0 = (x * (b / d)) % n\n",
    "        for i in range(0, d):\n",
    "            ret.append((x_0 + i * (n / d)) % n)\n",
    "    return ret"
   ]
  },
  {
   "cell_type": "code",
   "execution_count": 4,
   "metadata": {},
   "outputs": [
    {
     "name": "stdout",
     "output_type": "stream",
     "text": [
      "[95.0, 45.0]\n"
     ]
    }
   ],
   "source": [
    "print(modular_linear_equation_solver(14, 30, 100))"
   ]
  },
  {
   "cell_type": "code",
   "execution_count": 5,
   "metadata": {},
   "outputs": [],
   "source": [
    "def mul_inv(a, n):\n",
    "    d, x, y = egcd(a, n)\n",
    "    if d == 1:\n",
    "        return x % n\n",
    "    else:\n",
    "        raise Exception('gcd(a, n) != 1')"
   ]
  },
  {
   "cell_type": "code",
   "execution_count": 6,
   "metadata": {},
   "outputs": [],
   "source": [
    "def crt(list_a, list_n):\n",
    "    a, p = 0, 1\n",
    "    for n in list_n:\n",
    "        p = p * n\n",
    "    for i in range(len(list_a)):\n",
    "        a_i, n_i = list_a[i], list_n[i]\n",
    "        m_i = p / n_i\n",
    "        a += (a_i * m_i * mul_inv(m_i, n_i))\n",
    "    return a % p"
   ]
  },
  {
   "cell_type": "code",
   "execution_count": 7,
   "metadata": {},
   "outputs": [
    {
     "name": "stdout",
     "output_type": "stream",
     "text": [
      "42.0\n"
     ]
    }
   ],
   "source": [
    "print(crt([2,3], [5,13]))"
   ]
  },
  {
   "cell_type": "code",
   "execution_count": 12,
   "metadata": {},
   "outputs": [],
   "source": [
    "def modular_exponentiation(a, b, n):\n",
    "    c = 0\n",
    "    d = 1\n",
    "    b_binary = \"{0:b}\".format(b)\n",
    "    for i in range(0, len(b_binary)):\n",
    "        c = 2 * c\n",
    "        d = (d * d) % n\n",
    "        if b_binary[i] == \"1\":\n",
    "            c = c + 1\n",
    "            d = (d * a) % n\n",
    "    return d"
   ]
  },
  {
   "cell_type": "code",
   "execution_count": 13,
   "metadata": {},
   "outputs": [
    {
     "name": "stdout",
     "output_type": "stream",
     "text": [
      "1\n"
     ]
    }
   ],
   "source": [
    "print(modular_exponentiation(7, 560, 561))"
   ]
  }
 ],
 "metadata": {
  "kernelspec": {
   "display_name": "Python 3",
   "language": "python",
   "name": "python3"
  },
  "language_info": {
   "codemirror_mode": {
    "name": "ipython",
    "version": 3
   },
   "file_extension": ".py",
   "mimetype": "text/x-python",
   "name": "python",
   "nbconvert_exporter": "python",
   "pygments_lexer": "ipython3",
   "version": "3.7.4"
  }
 },
 "nbformat": 4,
 "nbformat_minor": 2
}

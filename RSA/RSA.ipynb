{
 "cells": [
  {
   "cell_type": "code",
   "execution_count": 1,
   "metadata": {},
   "outputs": [],
   "source": [
    "import random"
   ]
  },
  {
   "cell_type": "code",
   "execution_count": 2,
   "metadata": {},
   "outputs": [],
   "source": [
    "def gcd(a, b):\n",
    "    return a if b == 0 else gcd(b, a % b)"
   ]
  },
  {
   "cell_type": "code",
   "execution_count": 3,
   "metadata": {},
   "outputs": [],
   "source": [
    "def egcd(a, b):\n",
    "    if b == 0:\n",
    "        return a, 1, 0\n",
    "    else:\n",
    "        d, x, y = egcd(b, a % b)\n",
    "        return d, y, x - (a // b) * y"
   ]
  },
  {
   "cell_type": "code",
   "execution_count": 4,
   "metadata": {},
   "outputs": [],
   "source": [
    "def modular_linear_equation_solver(a, b, n):\n",
    "    ret = []\n",
    "    d, x, y = egcd(a, n)\n",
    "    if b % d == 0:\n",
    "        x_0 = (x * (b / d)) % n\n",
    "        for i in range(0, d):\n",
    "            ret.append((x_0 + i * (n / d)) % n)\n",
    "    return ret"
   ]
  },
  {
   "cell_type": "code",
   "execution_count": 5,
   "metadata": {},
   "outputs": [],
   "source": [
    "def mul_inv(a, n):\n",
    "    d, x, y = egcd(a, n)\n",
    "    if d == 1:\n",
    "        return x % n\n",
    "    else:\n",
    "        raise Exception('gcd(a, n) != 1')"
   ]
  },
  {
   "cell_type": "code",
   "execution_count": 6,
   "metadata": {},
   "outputs": [],
   "source": [
    "def crt(list_a, list_n):\n",
    "    a, p = 0, 1\n",
    "    for n in list_n:\n",
    "        p = p * n\n",
    "    for i in range(len(list_a)):\n",
    "        a_i, n_i = list_a[i], list_n[i]\n",
    "        m_i = p / n_i\n",
    "        a += (a_i * m_i * mul_inv(m_i, n_i))\n",
    "    return a % p"
   ]
  },
  {
   "cell_type": "code",
   "execution_count": 7,
   "metadata": {},
   "outputs": [],
   "source": [
    "def modular_exponentiation(a, b, n):\n",
    "    c = 0\n",
    "    d = 1\n",
    "    b_binary = \"{0:b}\".format(b)\n",
    "    for i in range(0, len(b_binary)):\n",
    "        c = 2 * c\n",
    "        d = (d * d) % n\n",
    "        if b_binary[i] == \"1\":\n",
    "            c = c + 1\n",
    "            d = (d * a) % n\n",
    "    return d"
   ]
  },
  {
   "cell_type": "code",
   "execution_count": 8,
   "metadata": {},
   "outputs": [],
   "source": [
    "def generate_keys(p, q):\n",
    "    n = p * q\n",
    "    phi_n = (p - 1) * (q - 1)\n",
    "    e = random.randrange(1, phi_n, 2)\n",
    "    while gcd(e, phi_n) != 1:\n",
    "        e = random.randrange(1, phi_n, 2)\n",
    "    d = mul_inv(e, phi_n)\n",
    "    P, S = (e, n), (d, n)\n",
    "    return P, S"
   ]
  },
  {
   "cell_type": "code",
   "execution_count": 9,
   "metadata": {},
   "outputs": [],
   "source": [
    "def encrypt(P, plain_text):\n",
    "    e, n = P\n",
    "    cipher_text = []\n",
    "    for c in plain_text:\n",
    "        cipher_text.append(modular_exponentiation(ord(c), e, n))\n",
    "    return cipher_text"
   ]
  },
  {
   "cell_type": "code",
   "execution_count": 10,
   "metadata": {},
   "outputs": [],
   "source": [
    "def decrypt(S, cipher_text):\n",
    "    d, n = S\n",
    "    plain_text = []\n",
    "    for c in cipher_text:\n",
    "        plain_text.append(chr(modular_exponentiation(c, d, n)))\n",
    "    return \"\".join(plain_text)"
   ]
  },
  {
   "cell_type": "code",
   "execution_count": 11,
   "metadata": {},
   "outputs": [
    {
     "name": "stdout",
     "output_type": "stream",
     "text": [
      "public key = (1990871, 17400659)\n",
      "private key = (582695, 17400659)\n"
     ]
    }
   ],
   "source": [
    "p = 8627\n",
    "q = 2017\n",
    "P, S = generate_keys(p, q)\n",
    "print(\"public key = {0}\".format(P))\n",
    "print(\"private key = {0}\".format(S))"
   ]
  },
  {
   "cell_type": "code",
   "execution_count": 12,
   "metadata": {},
   "outputs": [
    {
     "name": "stdout",
     "output_type": "stream",
     "text": [
      "[10033302, 13947846, 5696699, 5696699, 8005262, 10758546, 7243026, 8005262, 8966142, 5696699, 10552583, 4017748]\n"
     ]
    }
   ],
   "source": [
    "M = \"Hello World!\"\n",
    "cipher_text = encrypt(P, M)\n",
    "print(cipher_text)"
   ]
  },
  {
   "cell_type": "code",
   "execution_count": 13,
   "metadata": {},
   "outputs": [
    {
     "name": "stdout",
     "output_type": "stream",
     "text": [
      "Hello World!\n"
     ]
    }
   ],
   "source": [
    "plain_text = decrypt(S, cipher_text)\n",
    "print(plain_text)"
   ]
  }
 ],
 "metadata": {
  "kernelspec": {
   "display_name": "Python 3",
   "language": "python",
   "name": "python3"
  },
  "language_info": {
   "codemirror_mode": {
    "name": "ipython",
    "version": 3
   },
   "file_extension": ".py",
   "mimetype": "text/x-python",
   "name": "python",
   "nbconvert_exporter": "python",
   "pygments_lexer": "ipython3",
   "version": "3.7.4"
  }
 },
 "nbformat": 4,
 "nbformat_minor": 2
}
